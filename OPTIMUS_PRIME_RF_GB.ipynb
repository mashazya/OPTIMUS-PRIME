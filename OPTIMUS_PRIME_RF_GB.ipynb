{
  "cells": [
    {
      "cell_type": "code",
      "execution_count": 69,
      "metadata": {
        "colab": {
          "base_uri": "https://localhost:8080/",
          "height": 507
        },
        "id": "wvE12juMTOq5",
        "outputId": "df5b5708-b7d9-4752-f2be-392da5f1d393"
      },
      "outputs": [
        {
          "output_type": "stream",
          "name": "stdout",
          "text": [
            "Requirement already satisfied: h2o in /usr/local/lib/python3.7/dist-packages (3.36.1.1)\n",
            "Requirement already satisfied: requests in /usr/local/lib/python3.7/dist-packages (from h2o) (2.23.0)\n",
            "Requirement already satisfied: tabulate in /usr/local/lib/python3.7/dist-packages (from h2o) (0.8.9)\n",
            "Requirement already satisfied: future in /usr/local/lib/python3.7/dist-packages (from h2o) (0.16.0)\n",
            "Requirement already satisfied: certifi>=2017.4.17 in /usr/local/lib/python3.7/dist-packages (from requests->h2o) (2021.10.8)\n",
            "Requirement already satisfied: idna<3,>=2.5 in /usr/local/lib/python3.7/dist-packages (from requests->h2o) (2.10)\n",
            "Requirement already satisfied: urllib3!=1.25.0,!=1.25.1,<1.26,>=1.21.1 in /usr/local/lib/python3.7/dist-packages (from requests->h2o) (1.24.3)\n",
            "Requirement already satisfied: chardet<4,>=3.0.2 in /usr/local/lib/python3.7/dist-packages (from requests->h2o) (3.0.4)\n",
            "Checking whether there is an H2O instance running at http://localhost:54321 . connected.\n"
          ]
        },
        {
          "output_type": "display_data",
          "data": {
            "text/plain": [
              "--------------------------  ----------------------------------\n",
              "H2O_cluster_uptime:         3 hours 3 mins\n",
              "H2O_cluster_timezone:       Etc/UTC\n",
              "H2O_data_parsing_timezone:  UTC\n",
              "H2O_cluster_version:        3.36.1.1\n",
              "H2O_cluster_version_age:    17 days\n",
              "H2O_cluster_name:           H2O_from_python_unknownUser_bjj4b2\n",
              "H2O_cluster_total_nodes:    1\n",
              "H2O_cluster_free_memory:    2.475 Gb\n",
              "H2O_cluster_total_cores:    2\n",
              "H2O_cluster_allowed_cores:  2\n",
              "H2O_cluster_status:         locked, healthy\n",
              "H2O_connection_url:         http://localhost:54321\n",
              "H2O_connection_proxy:       {\"http\": null, \"https\": null}\n",
              "H2O_internal_security:      False\n",
              "Python_version:             3.7.13 final\n",
              "--------------------------  ----------------------------------"
            ],
            "text/html": [
              "<div style=\"overflow:auto\"><table style=\"width:50%\"><tr><td>H2O_cluster_uptime:</td>\n",
              "<td>3 hours 3 mins</td></tr>\n",
              "<tr><td>H2O_cluster_timezone:</td>\n",
              "<td>Etc/UTC</td></tr>\n",
              "<tr><td>H2O_data_parsing_timezone:</td>\n",
              "<td>UTC</td></tr>\n",
              "<tr><td>H2O_cluster_version:</td>\n",
              "<td>3.36.1.1</td></tr>\n",
              "<tr><td>H2O_cluster_version_age:</td>\n",
              "<td>17 days </td></tr>\n",
              "<tr><td>H2O_cluster_name:</td>\n",
              "<td>H2O_from_python_unknownUser_bjj4b2</td></tr>\n",
              "<tr><td>H2O_cluster_total_nodes:</td>\n",
              "<td>1</td></tr>\n",
              "<tr><td>H2O_cluster_free_memory:</td>\n",
              "<td>2.475 Gb</td></tr>\n",
              "<tr><td>H2O_cluster_total_cores:</td>\n",
              "<td>2</td></tr>\n",
              "<tr><td>H2O_cluster_allowed_cores:</td>\n",
              "<td>2</td></tr>\n",
              "<tr><td>H2O_cluster_status:</td>\n",
              "<td>locked, healthy</td></tr>\n",
              "<tr><td>H2O_connection_url:</td>\n",
              "<td>http://localhost:54321</td></tr>\n",
              "<tr><td>H2O_connection_proxy:</td>\n",
              "<td>{\"http\": null, \"https\": null}</td></tr>\n",
              "<tr><td>H2O_internal_security:</td>\n",
              "<td>False</td></tr>\n",
              "<tr><td>Python_version:</td>\n",
              "<td>3.7.13 final</td></tr></table></div>"
            ]
          },
          "metadata": {}
        }
      ],
      "source": [
        "import pandas as pd\n",
        "!pip3 install h2o\n",
        "import h2o\n",
        "from h2o.estimators import H2ORandomForestEstimator as RFE\n",
        "h2o.init()"
      ]
    },
    {
      "cell_type": "code",
      "execution_count": 70,
      "metadata": {
        "id": "XF6Deu3IV4rQ"
      },
      "outputs": [],
      "source": [
        "sales = pd.read_csv(\"/sales.csv\")\n",
        "geo_params = pd.read_csv(\"/geo_params.csv\")\n",
        "sku = pd.read_csv(\"/sku.csv\")"
      ]
    },
    {
      "cell_type": "code",
      "execution_count": 71,
      "metadata": {
        "colab": {
          "base_uri": "https://localhost:8080/",
          "height": 823
        },
        "id": "HVD5Rg_zgOmv",
        "outputId": "26d2d28a-0e15-4267-ab50-ea1f0056f1d7"
      },
      "outputs": [
        {
          "output_type": "execute_result",
          "data": {
            "text/plain": [
              "         geoCluster     SKU       date  price  sales  \\\n",
              "0                92   32485 2021-07-05  38.29    4.0   \n",
              "2               112   32485 2021-05-27  45.39    3.7   \n",
              "75              131   32485 2021-04-20  43.99    2.3   \n",
              "152             148   32485 2021-04-26  46.79    3.5   \n",
              "160             148   32485 2021-05-04  38.39    4.0   \n",
              "...             ...     ...        ...    ...    ...   \n",
              "4604750        3209  362721 2021-06-30  36.99    2.0   \n",
              "4604751        3209  362721 2021-07-01  36.99    1.0   \n",
              "4604752        3209  362721 2021-07-02  36.99    2.0   \n",
              "4604754        3209  362721 2021-07-04  36.99    8.0   \n",
              "4604755        3209  362721 2021-07-05  36.99    2.0   \n",
              "\n",
              "                                 Category            Type  brandId  \\\n",
              "0                                  Banana  Banana — Plain      NaN   \n",
              "2                                  Banana  Banana — Plain      NaN   \n",
              "75                                 Banana  Banana — Plain      NaN   \n",
              "152                                Banana  Banana — Plain      NaN   \n",
              "160                                Banana  Banana — Plain      NaN   \n",
              "...                                   ...             ...      ...   \n",
              "4604750  Plain fancy cake, own production         Cupcake      NaN   \n",
              "4604751  Plain fancy cake, own production         Cupcake      NaN   \n",
              "4604752  Plain fancy cake, own production         Cupcake      NaN   \n",
              "4604754  Plain fancy cake, own production         Cupcake      NaN   \n",
              "4604755  Plain fancy cake, own production         Cupcake      NaN   \n",
              "\n",
              "         lagerUnitQuantity  Units  trademark  countryOfOrigin  \\\n",
              "0                      1.0    NaN        NaN              NaN   \n",
              "2                      1.0    NaN        NaN              NaN   \n",
              "75                     1.0    NaN        NaN              NaN   \n",
              "152                    1.0    NaN        NaN              NaN   \n",
              "160                    1.0    NaN        NaN              NaN   \n",
              "...                    ...    ...        ...              ...   \n",
              "4604750              300.0    NaN     9666.0              1.0   \n",
              "4604751              300.0    NaN     9666.0              1.0   \n",
              "4604752              300.0    NaN     9666.0              1.0   \n",
              "4604754              300.0    NaN     9666.0              1.0   \n",
              "4604755              300.0    NaN     9666.0              1.0   \n",
              "\n",
              "                   Group  Year Month Day       dotw  \n",
              "0        Tropical fruits  2021    07  05     Monday  \n",
              "2        Tropical fruits  2021    05  27   Thursday  \n",
              "75       Tropical fruits  2021    04  20    Tuesday  \n",
              "152      Tropical fruits  2021    04  26     Monday  \n",
              "160      Tropical fruits  2021    05  04    Tuesday  \n",
              "...                  ...   ...   ...  ..        ...  \n",
              "4604750           Bakery  2021    06  30  Wednesday  \n",
              "4604751           Bakery  2021    07  01   Thursday  \n",
              "4604752           Bakery  2021    07  02     Friday  \n",
              "4604754           Bakery  2021    07  04     Sunday  \n",
              "4604755           Bakery  2021    07  05     Monday  \n",
              "\n",
              "[778366 rows x 17 columns]"
            ],
            "text/html": [
              "\n",
              "  <div id=\"df-41780382-25c7-4318-b8f1-96eb093b11ae\">\n",
              "    <div class=\"colab-df-container\">\n",
              "      <div>\n",
              "<style scoped>\n",
              "    .dataframe tbody tr th:only-of-type {\n",
              "        vertical-align: middle;\n",
              "    }\n",
              "\n",
              "    .dataframe tbody tr th {\n",
              "        vertical-align: top;\n",
              "    }\n",
              "\n",
              "    .dataframe thead th {\n",
              "        text-align: right;\n",
              "    }\n",
              "</style>\n",
              "<table border=\"1\" class=\"dataframe\">\n",
              "  <thead>\n",
              "    <tr style=\"text-align: right;\">\n",
              "      <th></th>\n",
              "      <th>geoCluster</th>\n",
              "      <th>SKU</th>\n",
              "      <th>date</th>\n",
              "      <th>price</th>\n",
              "      <th>sales</th>\n",
              "      <th>Category</th>\n",
              "      <th>Type</th>\n",
              "      <th>brandId</th>\n",
              "      <th>lagerUnitQuantity</th>\n",
              "      <th>Units</th>\n",
              "      <th>trademark</th>\n",
              "      <th>countryOfOrigin</th>\n",
              "      <th>Group</th>\n",
              "      <th>Year</th>\n",
              "      <th>Month</th>\n",
              "      <th>Day</th>\n",
              "      <th>dotw</th>\n",
              "    </tr>\n",
              "  </thead>\n",
              "  <tbody>\n",
              "    <tr>\n",
              "      <th>0</th>\n",
              "      <td>92</td>\n",
              "      <td>32485</td>\n",
              "      <td>2021-07-05</td>\n",
              "      <td>38.29</td>\n",
              "      <td>4.0</td>\n",
              "      <td>Banana</td>\n",
              "      <td>Banana — Plain</td>\n",
              "      <td>NaN</td>\n",
              "      <td>1.0</td>\n",
              "      <td>NaN</td>\n",
              "      <td>NaN</td>\n",
              "      <td>NaN</td>\n",
              "      <td>Tropical fruits</td>\n",
              "      <td>2021</td>\n",
              "      <td>07</td>\n",
              "      <td>05</td>\n",
              "      <td>Monday</td>\n",
              "    </tr>\n",
              "    <tr>\n",
              "      <th>2</th>\n",
              "      <td>112</td>\n",
              "      <td>32485</td>\n",
              "      <td>2021-05-27</td>\n",
              "      <td>45.39</td>\n",
              "      <td>3.7</td>\n",
              "      <td>Banana</td>\n",
              "      <td>Banana — Plain</td>\n",
              "      <td>NaN</td>\n",
              "      <td>1.0</td>\n",
              "      <td>NaN</td>\n",
              "      <td>NaN</td>\n",
              "      <td>NaN</td>\n",
              "      <td>Tropical fruits</td>\n",
              "      <td>2021</td>\n",
              "      <td>05</td>\n",
              "      <td>27</td>\n",
              "      <td>Thursday</td>\n",
              "    </tr>\n",
              "    <tr>\n",
              "      <th>75</th>\n",
              "      <td>131</td>\n",
              "      <td>32485</td>\n",
              "      <td>2021-04-20</td>\n",
              "      <td>43.99</td>\n",
              "      <td>2.3</td>\n",
              "      <td>Banana</td>\n",
              "      <td>Banana — Plain</td>\n",
              "      <td>NaN</td>\n",
              "      <td>1.0</td>\n",
              "      <td>NaN</td>\n",
              "      <td>NaN</td>\n",
              "      <td>NaN</td>\n",
              "      <td>Tropical fruits</td>\n",
              "      <td>2021</td>\n",
              "      <td>04</td>\n",
              "      <td>20</td>\n",
              "      <td>Tuesday</td>\n",
              "    </tr>\n",
              "    <tr>\n",
              "      <th>152</th>\n",
              "      <td>148</td>\n",
              "      <td>32485</td>\n",
              "      <td>2021-04-26</td>\n",
              "      <td>46.79</td>\n",
              "      <td>3.5</td>\n",
              "      <td>Banana</td>\n",
              "      <td>Banana — Plain</td>\n",
              "      <td>NaN</td>\n",
              "      <td>1.0</td>\n",
              "      <td>NaN</td>\n",
              "      <td>NaN</td>\n",
              "      <td>NaN</td>\n",
              "      <td>Tropical fruits</td>\n",
              "      <td>2021</td>\n",
              "      <td>04</td>\n",
              "      <td>26</td>\n",
              "      <td>Monday</td>\n",
              "    </tr>\n",
              "    <tr>\n",
              "      <th>160</th>\n",
              "      <td>148</td>\n",
              "      <td>32485</td>\n",
              "      <td>2021-05-04</td>\n",
              "      <td>38.39</td>\n",
              "      <td>4.0</td>\n",
              "      <td>Banana</td>\n",
              "      <td>Banana — Plain</td>\n",
              "      <td>NaN</td>\n",
              "      <td>1.0</td>\n",
              "      <td>NaN</td>\n",
              "      <td>NaN</td>\n",
              "      <td>NaN</td>\n",
              "      <td>Tropical fruits</td>\n",
              "      <td>2021</td>\n",
              "      <td>05</td>\n",
              "      <td>04</td>\n",
              "      <td>Tuesday</td>\n",
              "    </tr>\n",
              "    <tr>\n",
              "      <th>...</th>\n",
              "      <td>...</td>\n",
              "      <td>...</td>\n",
              "      <td>...</td>\n",
              "      <td>...</td>\n",
              "      <td>...</td>\n",
              "      <td>...</td>\n",
              "      <td>...</td>\n",
              "      <td>...</td>\n",
              "      <td>...</td>\n",
              "      <td>...</td>\n",
              "      <td>...</td>\n",
              "      <td>...</td>\n",
              "      <td>...</td>\n",
              "      <td>...</td>\n",
              "      <td>...</td>\n",
              "      <td>...</td>\n",
              "      <td>...</td>\n",
              "    </tr>\n",
              "    <tr>\n",
              "      <th>4604750</th>\n",
              "      <td>3209</td>\n",
              "      <td>362721</td>\n",
              "      <td>2021-06-30</td>\n",
              "      <td>36.99</td>\n",
              "      <td>2.0</td>\n",
              "      <td>Plain fancy cake, own production</td>\n",
              "      <td>Cupcake</td>\n",
              "      <td>NaN</td>\n",
              "      <td>300.0</td>\n",
              "      <td>NaN</td>\n",
              "      <td>9666.0</td>\n",
              "      <td>1.0</td>\n",
              "      <td>Bakery</td>\n",
              "      <td>2021</td>\n",
              "      <td>06</td>\n",
              "      <td>30</td>\n",
              "      <td>Wednesday</td>\n",
              "    </tr>\n",
              "    <tr>\n",
              "      <th>4604751</th>\n",
              "      <td>3209</td>\n",
              "      <td>362721</td>\n",
              "      <td>2021-07-01</td>\n",
              "      <td>36.99</td>\n",
              "      <td>1.0</td>\n",
              "      <td>Plain fancy cake, own production</td>\n",
              "      <td>Cupcake</td>\n",
              "      <td>NaN</td>\n",
              "      <td>300.0</td>\n",
              "      <td>NaN</td>\n",
              "      <td>9666.0</td>\n",
              "      <td>1.0</td>\n",
              "      <td>Bakery</td>\n",
              "      <td>2021</td>\n",
              "      <td>07</td>\n",
              "      <td>01</td>\n",
              "      <td>Thursday</td>\n",
              "    </tr>\n",
              "    <tr>\n",
              "      <th>4604752</th>\n",
              "      <td>3209</td>\n",
              "      <td>362721</td>\n",
              "      <td>2021-07-02</td>\n",
              "      <td>36.99</td>\n",
              "      <td>2.0</td>\n",
              "      <td>Plain fancy cake, own production</td>\n",
              "      <td>Cupcake</td>\n",
              "      <td>NaN</td>\n",
              "      <td>300.0</td>\n",
              "      <td>NaN</td>\n",
              "      <td>9666.0</td>\n",
              "      <td>1.0</td>\n",
              "      <td>Bakery</td>\n",
              "      <td>2021</td>\n",
              "      <td>07</td>\n",
              "      <td>02</td>\n",
              "      <td>Friday</td>\n",
              "    </tr>\n",
              "    <tr>\n",
              "      <th>4604754</th>\n",
              "      <td>3209</td>\n",
              "      <td>362721</td>\n",
              "      <td>2021-07-04</td>\n",
              "      <td>36.99</td>\n",
              "      <td>8.0</td>\n",
              "      <td>Plain fancy cake, own production</td>\n",
              "      <td>Cupcake</td>\n",
              "      <td>NaN</td>\n",
              "      <td>300.0</td>\n",
              "      <td>NaN</td>\n",
              "      <td>9666.0</td>\n",
              "      <td>1.0</td>\n",
              "      <td>Bakery</td>\n",
              "      <td>2021</td>\n",
              "      <td>07</td>\n",
              "      <td>04</td>\n",
              "      <td>Sunday</td>\n",
              "    </tr>\n",
              "    <tr>\n",
              "      <th>4604755</th>\n",
              "      <td>3209</td>\n",
              "      <td>362721</td>\n",
              "      <td>2021-07-05</td>\n",
              "      <td>36.99</td>\n",
              "      <td>2.0</td>\n",
              "      <td>Plain fancy cake, own production</td>\n",
              "      <td>Cupcake</td>\n",
              "      <td>NaN</td>\n",
              "      <td>300.0</td>\n",
              "      <td>NaN</td>\n",
              "      <td>9666.0</td>\n",
              "      <td>1.0</td>\n",
              "      <td>Bakery</td>\n",
              "      <td>2021</td>\n",
              "      <td>07</td>\n",
              "      <td>05</td>\n",
              "      <td>Monday</td>\n",
              "    </tr>\n",
              "  </tbody>\n",
              "</table>\n",
              "<p>778366 rows × 17 columns</p>\n",
              "</div>\n",
              "      <button class=\"colab-df-convert\" onclick=\"convertToInteractive('df-41780382-25c7-4318-b8f1-96eb093b11ae')\"\n",
              "              title=\"Convert this dataframe to an interactive table.\"\n",
              "              style=\"display:none;\">\n",
              "        \n",
              "  <svg xmlns=\"http://www.w3.org/2000/svg\" height=\"24px\"viewBox=\"0 0 24 24\"\n",
              "       width=\"24px\">\n",
              "    <path d=\"M0 0h24v24H0V0z\" fill=\"none\"/>\n",
              "    <path d=\"M18.56 5.44l.94 2.06.94-2.06 2.06-.94-2.06-.94-.94-2.06-.94 2.06-2.06.94zm-11 1L8.5 8.5l.94-2.06 2.06-.94-2.06-.94L8.5 2.5l-.94 2.06-2.06.94zm10 10l.94 2.06.94-2.06 2.06-.94-2.06-.94-.94-2.06-.94 2.06-2.06.94z\"/><path d=\"M17.41 7.96l-1.37-1.37c-.4-.4-.92-.59-1.43-.59-.52 0-1.04.2-1.43.59L10.3 9.45l-7.72 7.72c-.78.78-.78 2.05 0 2.83L4 21.41c.39.39.9.59 1.41.59.51 0 1.02-.2 1.41-.59l7.78-7.78 2.81-2.81c.8-.78.8-2.07 0-2.86zM5.41 20L4 18.59l7.72-7.72 1.47 1.35L5.41 20z\"/>\n",
              "  </svg>\n",
              "      </button>\n",
              "      \n",
              "  <style>\n",
              "    .colab-df-container {\n",
              "      display:flex;\n",
              "      flex-wrap:wrap;\n",
              "      gap: 12px;\n",
              "    }\n",
              "\n",
              "    .colab-df-convert {\n",
              "      background-color: #E8F0FE;\n",
              "      border: none;\n",
              "      border-radius: 50%;\n",
              "      cursor: pointer;\n",
              "      display: none;\n",
              "      fill: #1967D2;\n",
              "      height: 32px;\n",
              "      padding: 0 0 0 0;\n",
              "      width: 32px;\n",
              "    }\n",
              "\n",
              "    .colab-df-convert:hover {\n",
              "      background-color: #E2EBFA;\n",
              "      box-shadow: 0px 1px 2px rgba(60, 64, 67, 0.3), 0px 1px 3px 1px rgba(60, 64, 67, 0.15);\n",
              "      fill: #174EA6;\n",
              "    }\n",
              "\n",
              "    [theme=dark] .colab-df-convert {\n",
              "      background-color: #3B4455;\n",
              "      fill: #D2E3FC;\n",
              "    }\n",
              "\n",
              "    [theme=dark] .colab-df-convert:hover {\n",
              "      background-color: #434B5C;\n",
              "      box-shadow: 0px 1px 3px 1px rgba(0, 0, 0, 0.15);\n",
              "      filter: drop-shadow(0px 1px 2px rgba(0, 0, 0, 0.3));\n",
              "      fill: #FFFFFF;\n",
              "    }\n",
              "  </style>\n",
              "\n",
              "      <script>\n",
              "        const buttonEl =\n",
              "          document.querySelector('#df-41780382-25c7-4318-b8f1-96eb093b11ae button.colab-df-convert');\n",
              "        buttonEl.style.display =\n",
              "          google.colab.kernel.accessAllowed ? 'block' : 'none';\n",
              "\n",
              "        async function convertToInteractive(key) {\n",
              "          const element = document.querySelector('#df-41780382-25c7-4318-b8f1-96eb093b11ae');\n",
              "          const dataTable =\n",
              "            await google.colab.kernel.invokeFunction('convertToInteractive',\n",
              "                                                     [key], {});\n",
              "          if (!dataTable) return;\n",
              "\n",
              "          const docLinkHtml = 'Like what you see? Visit the ' +\n",
              "            '<a target=\"_blank\" href=https://colab.research.google.com/notebooks/data_table.ipynb>data table notebook</a>'\n",
              "            + ' to learn more about interactive tables.';\n",
              "          element.innerHTML = '';\n",
              "          dataTable['output_type'] = 'display_data';\n",
              "          await google.colab.output.renderOutput(dataTable, element);\n",
              "          const docLink = document.createElement('div');\n",
              "          docLink.innerHTML = docLinkHtml;\n",
              "          element.appendChild(docLink);\n",
              "        }\n",
              "      </script>\n",
              "    </div>\n",
              "  </div>\n",
              "  "
            ]
          },
          "metadata": {},
          "execution_count": 71
        }
      ],
      "source": [
        "joined = sales.join(sku.set_index('SKU'), on = 'SKU', how = 'inner')\n",
        "#joined = joined.drop(['Type','ID','SKU', 'Units', 'countryOfOrigin', 'trademark', 'brandId'], axis = 1)\n",
        "joined = joined.drop(['ID'], axis = 1)\n",
        "joined = joined.dropna(axis = 0, subset = ['sales', 'price'])\n",
        "joined[[\"Year\", \"Month\", \"Day\"]] = joined.date.str.split(pat='-',expand=True)\n",
        "joined['date'] = pd.to_datetime(joined['date'])\n",
        "joined['dotw']= joined['date'].dt.day_name()\n",
        "#joined = joined.drop(['date'], axis = 1)\n",
        "joined"
      ]
    },
    {
      "cell_type": "markdown",
      "source": [
        "#Random forest"
      ],
      "metadata": {
        "id": "sUrmMorj8lxa"
      }
    },
    {
      "cell_type": "code",
      "execution_count": 72,
      "metadata": {
        "colab": {
          "base_uri": "https://localhost:8080/",
          "height": 933
        },
        "id": "lhUHBB53k5Tu",
        "outputId": "5786eb91-ca1e-4e75-f8c7-fe49e96047ff"
      },
      "outputs": [
        {
          "output_type": "stream",
          "name": "stdout",
          "text": [
            "Parse progress: |████████████████████████████████████████████████████████████████| (done) 100%\n"
          ]
        },
        {
          "output_type": "display_data",
          "data": {
            "text/html": [
              "<table>\n",
              "<thead>\n",
              "<tr><th style=\"text-align: right;\">  geoCluster</th><th style=\"text-align: right;\">   SKU</th><th>date               </th><th style=\"text-align: right;\">  price</th><th style=\"text-align: right;\">  sales</th><th>Category                                               </th><th>Type                                                           </th><th style=\"text-align: right;\">  brandId</th><th style=\"text-align: right;\">  lagerUnitQuantity</th><th style=\"text-align: right;\">  Units</th><th style=\"text-align: right;\">  trademark</th><th style=\"text-align: right;\">  countryOfOrigin</th><th>Group          </th><th style=\"text-align: right;\">  Year</th><th style=\"text-align: right;\">  Month</th><th style=\"text-align: right;\">  Day</th><th>dotw     </th></tr>\n",
              "</thead>\n",
              "<tbody>\n",
              "<tr><td style=\"text-align: right;\">        2264</td><td style=\"text-align: right;\"> 16649</td><td>2021-02-26 00:00:00</td><td style=\"text-align: right;\">  18.09</td><td style=\"text-align: right;\">    6  </td><td>Water, still                                           </td><td>Table water — PET — from 1 to 2 L — Still                      </td><td style=\"text-align: right;\">     1241</td><td style=\"text-align: right;\">                1.5</td><td style=\"text-align: right;\">    nan</td><td style=\"text-align: right;\">       1323</td><td style=\"text-align: right;\">                1</td><td>Mineral water  </td><td style=\"text-align: right;\">  2021</td><td style=\"text-align: right;\">      2</td><td style=\"text-align: right;\">   26</td><td>Friday   </td></tr>\n",
              "<tr><td style=\"text-align: right;\">        2077</td><td style=\"text-align: right;\">543663</td><td>2021-04-01 00:00:00</td><td style=\"text-align: right;\"> 424.69</td><td style=\"text-align: right;\">    0.5</td><td>Soft cheese, white mold                                </td><td>soft cheese — More expensive — Import — White mold — Brie      </td><td style=\"text-align: right;\">     2737</td><td style=\"text-align: right;\">                1  </td><td style=\"text-align: right;\">    nan</td><td style=\"text-align: right;\">       8802</td><td style=\"text-align: right;\">                6</td><td>Cheese         </td><td style=\"text-align: right;\">  2021</td><td style=\"text-align: right;\">      4</td><td style=\"text-align: right;\">    1</td><td>Thursday </td></tr>\n",
              "<tr><td style=\"text-align: right;\">        2750</td><td style=\"text-align: right;\">224200</td><td>2020-10-11 00:00:00</td><td style=\"text-align: right;\">  23.49</td><td style=\"text-align: right;\">    3  </td><td>Plain wheat bread, toast-type, own production          </td><td>Bread — plain — wheat                                          </td><td style=\"text-align: right;\">      nan</td><td style=\"text-align: right;\">              550  </td><td style=\"text-align: right;\">    nan</td><td style=\"text-align: right;\">       9666</td><td style=\"text-align: right;\">                1</td><td>Bakery         </td><td style=\"text-align: right;\">  2020</td><td style=\"text-align: right;\">     10</td><td style=\"text-align: right;\">   11</td><td>Sunday   </td></tr>\n",
              "<tr><td style=\"text-align: right;\">        2013</td><td style=\"text-align: right;\">567970</td><td>2021-01-21 00:00:00</td><td style=\"text-align: right;\">  26.39</td><td style=\"text-align: right;\">    1  </td><td>Plain baguette loaf baked in the hearth, own production</td><td>Baguette loaf — plain                                          </td><td style=\"text-align: right;\">     2737</td><td style=\"text-align: right;\">              300  </td><td style=\"text-align: right;\">    nan</td><td style=\"text-align: right;\">       9974</td><td style=\"text-align: right;\">                1</td><td>Bakery         </td><td style=\"text-align: right;\">  2021</td><td style=\"text-align: right;\">      1</td><td style=\"text-align: right;\">   21</td><td>Thursday </td></tr>\n",
              "<tr><td style=\"text-align: right;\">        2053</td><td style=\"text-align: right;\"> 32546</td><td>2021-06-02 00:00:00</td><td style=\"text-align: right;\">  40.79</td><td style=\"text-align: right;\">    4  </td><td>Orange                                                 </td><td>Citrus fruit — Orange — Plain                                  </td><td style=\"text-align: right;\">      nan</td><td style=\"text-align: right;\">                1  </td><td style=\"text-align: right;\">    nan</td><td style=\"text-align: right;\">        nan</td><td style=\"text-align: right;\">              nan</td><td>Tropical fruits</td><td style=\"text-align: right;\">  2021</td><td style=\"text-align: right;\">      6</td><td style=\"text-align: right;\">    2</td><td>Wednesday</td></tr>\n",
              "<tr><td style=\"text-align: right;\">        2383</td><td style=\"text-align: right;\">503007</td><td>2020-06-17 00:00:00</td><td style=\"text-align: right;\">  30.59</td><td style=\"text-align: right;\">    2  </td><td>Plain rye-wheat bread, parbaking                       </td><td>Bread — plain — rye-wheat                                      </td><td style=\"text-align: right;\">     8274</td><td style=\"text-align: right;\">              340  </td><td style=\"text-align: right;\">    nan</td><td style=\"text-align: right;\">        nan</td><td style=\"text-align: right;\">                1</td><td>Bakery         </td><td style=\"text-align: right;\">  2020</td><td style=\"text-align: right;\">      6</td><td style=\"text-align: right;\">   17</td><td>Wednesday</td></tr>\n",
              "<tr><td style=\"text-align: right;\">        2177</td><td style=\"text-align: right;\">787133</td><td>2021-01-01 00:00:00</td><td style=\"text-align: right;\">  81.69</td><td style=\"text-align: right;\">    1  </td><td>Avocado                                                </td><td>Tropical fruit — Avocado — Ready to Eat                        </td><td style=\"text-align: right;\">      nan</td><td style=\"text-align: right;\">                2  </td><td style=\"text-align: right;\">    nan</td><td style=\"text-align: right;\">       9666</td><td style=\"text-align: right;\">              nan</td><td>Tropical fruits</td><td style=\"text-align: right;\">  2021</td><td style=\"text-align: right;\">      1</td><td style=\"text-align: right;\">    1</td><td>Friday   </td></tr>\n",
              "<tr><td style=\"text-align: right;\">        2069</td><td style=\"text-align: right;\"> 47330</td><td>2020-04-09 00:00:00</td><td style=\"text-align: right;\"> 240.09</td><td style=\"text-align: right;\">    1  </td><td>Semi-hard coarse-pored cheese                          </td><td>semi-hard cheese — More expensive — National — Available import</td><td style=\"text-align: right;\">     2737</td><td style=\"text-align: right;\">                1  </td><td style=\"text-align: right;\">    nan</td><td style=\"text-align: right;\">        297</td><td style=\"text-align: right;\">               16</td><td>Cheese         </td><td style=\"text-align: right;\">  2020</td><td style=\"text-align: right;\">      4</td><td style=\"text-align: right;\">    9</td><td>Thursday </td></tr>\n",
              "<tr><td style=\"text-align: right;\">        1999</td><td style=\"text-align: right;\"> 20872</td><td>2021-06-07 00:00:00</td><td style=\"text-align: right;\">  37.69</td><td style=\"text-align: right;\">    2  </td><td>Water, sparkling                                       </td><td>Therapeutic-table water — PET — from 1 to 2 L                  </td><td style=\"text-align: right;\">     2693</td><td style=\"text-align: right;\">                1.5</td><td style=\"text-align: right;\">    nan</td><td style=\"text-align: right;\">       4384</td><td style=\"text-align: right;\">                1</td><td>Mineral water  </td><td style=\"text-align: right;\">  2021</td><td style=\"text-align: right;\">      6</td><td style=\"text-align: right;\">    7</td><td>Monday   </td></tr>\n",
              "<tr><td style=\"text-align: right;\">        2542</td><td style=\"text-align: right;\"> 89074</td><td>2021-02-25 00:00:00</td><td style=\"text-align: right;\">  20.69</td><td style=\"text-align: right;\">    5  </td><td>Milk cakes                                             </td><td>Sponge cake                                                    </td><td style=\"text-align: right;\">     2724</td><td style=\"text-align: right;\">               28  </td><td style=\"text-align: right;\">    nan</td><td style=\"text-align: right;\">       1835</td><td style=\"text-align: right;\">              nan</td><td>Yogurts        </td><td style=\"text-align: right;\">  2021</td><td style=\"text-align: right;\">      2</td><td style=\"text-align: right;\">   25</td><td>Thursday </td></tr>\n",
              "</tbody>\n",
              "</table>"
            ]
          },
          "metadata": {}
        },
        {
          "output_type": "execute_result",
          "data": {
            "text/plain": [
              ""
            ]
          },
          "metadata": {},
          "execution_count": 72
        }
      ],
      "source": [
        "shuffled=joined.sample(frac=1, random_state=1)\n",
        "h2o_joined = h2o.H2OFrame(shuffled)\n",
        "h2o_joined"
      ]
    },
    {
      "cell_type": "code",
      "execution_count": 73,
      "metadata": {
        "colab": {
          "base_uri": "https://localhost:8080/",
          "height": 916
        },
        "id": "iqNZSfLVxctt",
        "outputId": "a78f0870-e03a-463c-a9b2-761a83c69a3e"
      },
      "outputs": [
        {
          "output_type": "display_data",
          "data": {
            "text/html": [
              "<table>\n",
              "<thead>\n",
              "<tr><th style=\"text-align: right;\">  geoCluster</th><th style=\"text-align: right;\">   SKU</th><th>date               </th><th style=\"text-align: right;\">  price</th><th style=\"text-align: right;\">  sales</th><th>Category                                               </th><th>Type                                                           </th><th style=\"text-align: right;\">  brandId</th><th style=\"text-align: right;\">  lagerUnitQuantity</th><th style=\"text-align: right;\">  Units</th><th>trademark  </th><th style=\"text-align: right;\">  countryOfOrigin</th><th>Group          </th><th style=\"text-align: right;\">  Year</th><th style=\"text-align: right;\">  Month</th><th style=\"text-align: right;\">  Day</th><th>dotw     </th></tr>\n",
              "</thead>\n",
              "<tbody>\n",
              "<tr><td style=\"text-align: right;\">        2264</td><td style=\"text-align: right;\"> 16649</td><td>2021-02-26 00:00:00</td><td style=\"text-align: right;\">  18.09</td><td style=\"text-align: right;\">    6  </td><td>Water, still                                           </td><td>Table water — PET — from 1 to 2 L — Still                      </td><td style=\"text-align: right;\">     1241</td><td style=\"text-align: right;\">                1.5</td><td style=\"text-align: right;\">    nan</td><td>1323       </td><td style=\"text-align: right;\">                1</td><td>Mineral water  </td><td style=\"text-align: right;\">  2021</td><td style=\"text-align: right;\">      2</td><td style=\"text-align: right;\">   26</td><td>Friday   </td></tr>\n",
              "<tr><td style=\"text-align: right;\">        2077</td><td style=\"text-align: right;\">543663</td><td>2021-04-01 00:00:00</td><td style=\"text-align: right;\"> 424.69</td><td style=\"text-align: right;\">    0.5</td><td>Soft cheese, white mold                                </td><td>soft cheese — More expensive — Import — White mold — Brie      </td><td style=\"text-align: right;\">     2737</td><td style=\"text-align: right;\">                1  </td><td style=\"text-align: right;\">    nan</td><td>8802       </td><td style=\"text-align: right;\">                6</td><td>Cheese         </td><td style=\"text-align: right;\">  2021</td><td style=\"text-align: right;\">      4</td><td style=\"text-align: right;\">    1</td><td>Thursday </td></tr>\n",
              "<tr><td style=\"text-align: right;\">        2750</td><td style=\"text-align: right;\">224200</td><td>2020-10-11 00:00:00</td><td style=\"text-align: right;\">  23.49</td><td style=\"text-align: right;\">    3  </td><td>Plain wheat bread, toast-type, own production          </td><td>Bread — plain — wheat                                          </td><td style=\"text-align: right;\">      nan</td><td style=\"text-align: right;\">              550  </td><td style=\"text-align: right;\">    nan</td><td>9666       </td><td style=\"text-align: right;\">                1</td><td>Bakery         </td><td style=\"text-align: right;\">  2020</td><td style=\"text-align: right;\">     10</td><td style=\"text-align: right;\">   11</td><td>Sunday   </td></tr>\n",
              "<tr><td style=\"text-align: right;\">        2013</td><td style=\"text-align: right;\">567970</td><td>2021-01-21 00:00:00</td><td style=\"text-align: right;\">  26.39</td><td style=\"text-align: right;\">    1  </td><td>Plain baguette loaf baked in the hearth, own production</td><td>Baguette loaf — plain                                          </td><td style=\"text-align: right;\">     2737</td><td style=\"text-align: right;\">              300  </td><td style=\"text-align: right;\">    nan</td><td>9974       </td><td style=\"text-align: right;\">                1</td><td>Bakery         </td><td style=\"text-align: right;\">  2021</td><td style=\"text-align: right;\">      1</td><td style=\"text-align: right;\">   21</td><td>Thursday </td></tr>\n",
              "<tr><td style=\"text-align: right;\">        2053</td><td style=\"text-align: right;\"> 32546</td><td>2021-06-02 00:00:00</td><td style=\"text-align: right;\">  40.79</td><td style=\"text-align: right;\">    4  </td><td>Orange                                                 </td><td>Citrus fruit — Orange — Plain                                  </td><td style=\"text-align: right;\">      nan</td><td style=\"text-align: right;\">                1  </td><td style=\"text-align: right;\">    nan</td><td>           </td><td style=\"text-align: right;\">              nan</td><td>Tropical fruits</td><td style=\"text-align: right;\">  2021</td><td style=\"text-align: right;\">      6</td><td style=\"text-align: right;\">    2</td><td>Wednesday</td></tr>\n",
              "<tr><td style=\"text-align: right;\">        2383</td><td style=\"text-align: right;\">503007</td><td>2020-06-17 00:00:00</td><td style=\"text-align: right;\">  30.59</td><td style=\"text-align: right;\">    2  </td><td>Plain rye-wheat bread, parbaking                       </td><td>Bread — plain — rye-wheat                                      </td><td style=\"text-align: right;\">     8274</td><td style=\"text-align: right;\">              340  </td><td style=\"text-align: right;\">    nan</td><td>           </td><td style=\"text-align: right;\">                1</td><td>Bakery         </td><td style=\"text-align: right;\">  2020</td><td style=\"text-align: right;\">      6</td><td style=\"text-align: right;\">   17</td><td>Wednesday</td></tr>\n",
              "<tr><td style=\"text-align: right;\">        2177</td><td style=\"text-align: right;\">787133</td><td>2021-01-01 00:00:00</td><td style=\"text-align: right;\">  81.69</td><td style=\"text-align: right;\">    1  </td><td>Avocado                                                </td><td>Tropical fruit — Avocado — Ready to Eat                        </td><td style=\"text-align: right;\">      nan</td><td style=\"text-align: right;\">                2  </td><td style=\"text-align: right;\">    nan</td><td>9666       </td><td style=\"text-align: right;\">              nan</td><td>Tropical fruits</td><td style=\"text-align: right;\">  2021</td><td style=\"text-align: right;\">      1</td><td style=\"text-align: right;\">    1</td><td>Friday   </td></tr>\n",
              "<tr><td style=\"text-align: right;\">        2069</td><td style=\"text-align: right;\"> 47330</td><td>2020-04-09 00:00:00</td><td style=\"text-align: right;\"> 240.09</td><td style=\"text-align: right;\">    1  </td><td>Semi-hard coarse-pored cheese                          </td><td>semi-hard cheese — More expensive — National — Available import</td><td style=\"text-align: right;\">     2737</td><td style=\"text-align: right;\">                1  </td><td style=\"text-align: right;\">    nan</td><td>297        </td><td style=\"text-align: right;\">               16</td><td>Cheese         </td><td style=\"text-align: right;\">  2020</td><td style=\"text-align: right;\">      4</td><td style=\"text-align: right;\">    9</td><td>Thursday </td></tr>\n",
              "<tr><td style=\"text-align: right;\">        1999</td><td style=\"text-align: right;\"> 20872</td><td>2021-06-07 00:00:00</td><td style=\"text-align: right;\">  37.69</td><td style=\"text-align: right;\">    2  </td><td>Water, sparkling                                       </td><td>Therapeutic-table water — PET — from 1 to 2 L                  </td><td style=\"text-align: right;\">     2693</td><td style=\"text-align: right;\">                1.5</td><td style=\"text-align: right;\">    nan</td><td>4384       </td><td style=\"text-align: right;\">                1</td><td>Mineral water  </td><td style=\"text-align: right;\">  2021</td><td style=\"text-align: right;\">      6</td><td style=\"text-align: right;\">    7</td><td>Monday   </td></tr>\n",
              "<tr><td style=\"text-align: right;\">        2542</td><td style=\"text-align: right;\"> 89074</td><td>2021-02-25 00:00:00</td><td style=\"text-align: right;\">  20.69</td><td style=\"text-align: right;\">    5  </td><td>Milk cakes                                             </td><td>Sponge cake                                                    </td><td style=\"text-align: right;\">     2724</td><td style=\"text-align: right;\">               28  </td><td style=\"text-align: right;\">    nan</td><td>1835       </td><td style=\"text-align: right;\">              nan</td><td>Yogurts        </td><td style=\"text-align: right;\">  2021</td><td style=\"text-align: right;\">      2</td><td style=\"text-align: right;\">   25</td><td>Thursday </td></tr>\n",
              "</tbody>\n",
              "</table>"
            ]
          },
          "metadata": {}
        },
        {
          "output_type": "execute_result",
          "data": {
            "text/plain": [
              ""
            ]
          },
          "metadata": {},
          "execution_count": 73
        }
      ],
      "source": [
        "# Set the predictors and response;\n",
        "predictors = [\"geoCluster\",\"price\",\"Category\",\"Type\", \"brandId\", \"lagerUnitQuantity\",\"Units\", \"trademark\", \"countryOfOrigin\",\"Group\", \"Month\", \"Year\", \"dotw\"]\n",
        "response = \"sales\"\n",
        "# set the response as a factor:\n",
        "h2o_joined[\"Category\"] = h2o_joined[\"Category\"].asfactor()\n",
        "h2o_joined[\"countryOfOrigin\"] = h2o_joined[\"countryOfOrigin\"].asfactor()\n",
        "h2o_joined[\"trademark\"] = h2o_joined[\"trademark\"].asfactor()\n",
        "h2o_joined[\"geoCluster\"] = h2o_joined[\"geoCluster\"].asfactor()\n",
        "h2o_joined[\"Group\"] = h2o_joined[\"Group\"].asfactor()\n",
        "h2o_joined[\"Type\"] = h2o_joined[\"Type\"].asfactor()\n",
        "h2o_joined[\"dotw\"] = h2o_joined[\"dotw\"].asfactor()\n",
        "h2o_joined"
      ]
    },
    {
      "cell_type": "code",
      "execution_count": 74,
      "metadata": {
        "colab": {
          "base_uri": "https://localhost:8080/"
        },
        "id": "n8JwixiQwoga",
        "outputId": "09d9ebaa-f87f-4a74-8f06-213da826b3a5"
      },
      "outputs": [
        {
          "output_type": "stream",
          "name": "stdout",
          "text": [
            "drf Model Build progress: |"
          ]
        },
        {
          "output_type": "stream",
          "name": "stderr",
          "text": [
            "/usr/local/lib/python3.7/dist-packages/h2o/estimators/estimator_base.py:208: RuntimeWarning: Dropping bad and constant columns: [Units]\n",
            "  warnings.warn(mesg[\"message\"], RuntimeWarning)\n",
            "/usr/local/lib/python3.7/dist-packages/h2o/estimators/estimator_base.py:208: RuntimeWarning: Calibration frame was specified but calibration was not requested.\n",
            "  warnings.warn(mesg[\"message\"], RuntimeWarning)\n"
          ]
        },
        {
          "output_type": "stream",
          "name": "stdout",
          "text": [
            "██████████████████████████████████████████████████████| (done) 100%\n",
            "drf prediction progress: |███████████████████████████████████████████████████████| (done) 100%\n"
          ]
        }
      ],
      "source": [
        "# Split the dataset into a train and valid set:\n",
        "train, valid = h2o_joined.split_frame(ratios=[.9], seed=1234)\n",
        "\n",
        "# Build and train the model:\n",
        "model = RFE(ntrees=10,\n",
        "            max_depth=5,\n",
        "            min_rows=5000,\n",
        "            calibration_frame=valid)\n",
        "\n",
        "model.train(x=predictors,\n",
        "               y=response,\n",
        "               training_frame=train,\n",
        "               validation_frame=valid)\n",
        "\n",
        "# Eval performance:\n",
        "perf = model.model_performance()\n",
        "\n",
        "# Generate predictions on a validation set (if necessary):\n",
        "pred =  model.predict(valid)"
      ]
    },
    {
      "cell_type": "code",
      "source": [
        "model.download_mojo(\"my_gbm_mojo.zip\")\n",
        "valid"
      ],
      "metadata": {
        "colab": {
          "base_uri": "https://localhost:8080/",
          "height": 916
        },
        "id": "DsRR6Nr4Dq4t",
        "outputId": "5497cb9a-ae0d-430a-8e04-46814b9ba43c"
      },
      "execution_count": 75,
      "outputs": [
        {
          "output_type": "display_data",
          "data": {
            "text/html": [
              "<table>\n",
              "<thead>\n",
              "<tr><th style=\"text-align: right;\">  geoCluster</th><th style=\"text-align: right;\">   SKU</th><th>date               </th><th style=\"text-align: right;\">  price</th><th style=\"text-align: right;\">  sales</th><th>Category                                                </th><th>Type                                                           </th><th style=\"text-align: right;\">  brandId</th><th style=\"text-align: right;\">  lagerUnitQuantity</th><th style=\"text-align: right;\">  Units</th><th>trademark  </th><th style=\"text-align: right;\">  countryOfOrigin</th><th>Group          </th><th style=\"text-align: right;\">  Year</th><th style=\"text-align: right;\">  Month</th><th style=\"text-align: right;\">  Day</th><th>dotw    </th></tr>\n",
              "</thead>\n",
              "<tbody>\n",
              "<tr><td style=\"text-align: right;\">        2013</td><td style=\"text-align: right;\">567970</td><td>2021-01-21 00:00:00</td><td style=\"text-align: right;\">  26.39</td><td style=\"text-align: right;\">    1  </td><td>Plain baguette loaf baked in the hearth, own production </td><td>Baguette loaf — plain                                          </td><td style=\"text-align: right;\">     2737</td><td style=\"text-align: right;\">              300  </td><td style=\"text-align: right;\">    nan</td><td>9974       </td><td style=\"text-align: right;\">                1</td><td>Bakery         </td><td style=\"text-align: right;\">  2021</td><td style=\"text-align: right;\">      1</td><td style=\"text-align: right;\">   21</td><td>Thursday</td></tr>\n",
              "<tr><td style=\"text-align: right;\">        2542</td><td style=\"text-align: right;\"> 89074</td><td>2021-02-25 00:00:00</td><td style=\"text-align: right;\">  20.69</td><td style=\"text-align: right;\">    5  </td><td>Milk cakes                                              </td><td>Sponge cake                                                    </td><td style=\"text-align: right;\">     2724</td><td style=\"text-align: right;\">               28  </td><td style=\"text-align: right;\">    nan</td><td>1835       </td><td style=\"text-align: right;\">              nan</td><td>Yogurts        </td><td style=\"text-align: right;\">  2021</td><td style=\"text-align: right;\">      2</td><td style=\"text-align: right;\">   25</td><td>Thursday</td></tr>\n",
              "<tr><td style=\"text-align: right;\">        1999</td><td style=\"text-align: right;\">369071</td><td>2021-04-24 00:00:00</td><td style=\"text-align: right;\">  15.69</td><td style=\"text-align: right;\">    6  </td><td>Water, still                                            </td><td>Table water — PET — from 1 to 2 L — Still                      </td><td style=\"text-align: right;\">     1330</td><td style=\"text-align: right;\">                2  </td><td style=\"text-align: right;\">    nan</td><td>2781       </td><td style=\"text-align: right;\">                1</td><td>Mineral water  </td><td style=\"text-align: right;\">  2021</td><td style=\"text-align: right;\">      4</td><td style=\"text-align: right;\">   24</td><td>Saturday</td></tr>\n",
              "<tr><td style=\"text-align: right;\">        2270</td><td style=\"text-align: right;\">690818</td><td>2020-11-13 00:00:00</td><td style=\"text-align: right;\">  15.99</td><td style=\"text-align: right;\">    4  </td><td>Ciabatta, light, plain, parbaking                       </td><td>Ciabatta                                                       </td><td style=\"text-align: right;\">     8274</td><td style=\"text-align: right;\">              250  </td><td style=\"text-align: right;\">    nan</td><td>4043       </td><td style=\"text-align: right;\">              nan</td><td>Bakery         </td><td style=\"text-align: right;\">  2020</td><td style=\"text-align: right;\">     11</td><td style=\"text-align: right;\">   13</td><td>Friday  </td></tr>\n",
              "<tr><td style=\"text-align: right;\">        2259</td><td style=\"text-align: right;\"> 32550</td><td>2020-12-25 00:00:00</td><td style=\"text-align: right;\">  58.29</td><td style=\"text-align: right;\">    4.7</td><td>Lemon                                                   </td><td>Citrus fruit — Lemon — Plain                                   </td><td style=\"text-align: right;\">      nan</td><td style=\"text-align: right;\">                1  </td><td style=\"text-align: right;\">    nan</td><td>           </td><td style=\"text-align: right;\">              nan</td><td>Tropical fruits</td><td style=\"text-align: right;\">  2020</td><td style=\"text-align: right;\">     12</td><td style=\"text-align: right;\">   25</td><td>Friday  </td></tr>\n",
              "<tr><td style=\"text-align: right;\">        2120</td><td style=\"text-align: right;\">369071</td><td>2021-02-14 00:00:00</td><td style=\"text-align: right;\">  19.69</td><td style=\"text-align: right;\">    4  </td><td>Water, still                                            </td><td>Table water — PET — from 1 to 2 L — Still                      </td><td style=\"text-align: right;\">     1330</td><td style=\"text-align: right;\">                2  </td><td style=\"text-align: right;\">    nan</td><td>2781       </td><td style=\"text-align: right;\">                1</td><td>Mineral water  </td><td style=\"text-align: right;\">  2021</td><td style=\"text-align: right;\">      2</td><td style=\"text-align: right;\">   14</td><td>Sunday  </td></tr>\n",
              "<tr><td style=\"text-align: right;\">        2577</td><td style=\"text-align: right;\">591899</td><td>2021-05-15 00:00:00</td><td style=\"text-align: right;\">  82.49</td><td style=\"text-align: right;\">    0.5</td><td>Flavored wheat bread baked in the hearth, own production</td><td>Bread — flavored                                               </td><td style=\"text-align: right;\">      nan</td><td style=\"text-align: right;\">                1  </td><td style=\"text-align: right;\">    nan</td><td>15156      </td><td style=\"text-align: right;\">                1</td><td>Bakery         </td><td style=\"text-align: right;\">  2021</td><td style=\"text-align: right;\">      5</td><td style=\"text-align: right;\">   15</td><td>Saturday</td></tr>\n",
              "<tr><td style=\"text-align: right;\">        2171</td><td style=\"text-align: right;\">690818</td><td>2020-09-01 00:00:00</td><td style=\"text-align: right;\">  17.09</td><td style=\"text-align: right;\">    2  </td><td>Ciabatta, light, plain, parbaking                       </td><td>Ciabatta                                                       </td><td style=\"text-align: right;\">     8274</td><td style=\"text-align: right;\">              250  </td><td style=\"text-align: right;\">    nan</td><td>4043       </td><td style=\"text-align: right;\">              nan</td><td>Bakery         </td><td style=\"text-align: right;\">  2020</td><td style=\"text-align: right;\">      9</td><td style=\"text-align: right;\">    1</td><td>Tuesday </td></tr>\n",
              "<tr><td style=\"text-align: right;\">        2542</td><td style=\"text-align: right;\">571255</td><td>2021-02-27 00:00:00</td><td style=\"text-align: right;\"> 255.59</td><td style=\"text-align: right;\">    2  </td><td>Semi-hard coarse-pored cheese                           </td><td>semi-hard cheese — More expensive — National — Available import</td><td style=\"text-align: right;\">     2737</td><td style=\"text-align: right;\">                1  </td><td style=\"text-align: right;\">    nan</td><td>1037       </td><td style=\"text-align: right;\">               33</td><td>Cheese         </td><td style=\"text-align: right;\">  2021</td><td style=\"text-align: right;\">      2</td><td style=\"text-align: right;\">   27</td><td>Saturday</td></tr>\n",
              "<tr><td style=\"text-align: right;\">        2735</td><td style=\"text-align: right;\">   208</td><td>2021-02-01 00:00:00</td><td style=\"text-align: right;\">  15.59</td><td style=\"text-align: right;\">    2  </td><td>Water, sparkling                                        </td><td>Therapeutic-table water — PET — from 1 to 2 L                  </td><td style=\"text-align: right;\">     1241</td><td style=\"text-align: right;\">                1.5</td><td style=\"text-align: right;\">    nan</td><td>3670       </td><td style=\"text-align: right;\">                1</td><td>Mineral water  </td><td style=\"text-align: right;\">  2021</td><td style=\"text-align: right;\">      2</td><td style=\"text-align: right;\">    1</td><td>Monday  </td></tr>\n",
              "</tbody>\n",
              "</table>"
            ]
          },
          "metadata": {}
        },
        {
          "output_type": "execute_result",
          "data": {
            "text/plain": [
              ""
            ]
          },
          "metadata": {},
          "execution_count": 75
        }
      ]
    },
    {
      "cell_type": "code",
      "execution_count": 76,
      "metadata": {
        "colab": {
          "base_uri": "https://localhost:8080/"
        },
        "id": "ufXOjVjr7_qC",
        "outputId": "469ca36d-4df0-4c0f-8bc3-9d30ffd647e1"
      },
      "outputs": [
        {
          "output_type": "stream",
          "name": "stdout",
          "text": [
            "\n",
            "ModelMetricsRegression: drf\n",
            "** Reported on train data. **\n",
            "\n",
            "MSE: 14.979483152187747\n",
            "RMSE: 3.8703337262034325\n",
            "MAE: 1.9401738551033412\n",
            "RMSLE: 0.49526404077733666\n",
            "Mean Residual Deviance: 14.979483152187747\n"
          ]
        },
        {
          "output_type": "execute_result",
          "data": {
            "text/plain": [
              ""
            ]
          },
          "metadata": {},
          "execution_count": 76
        }
      ],
      "source": [
        "perf"
      ]
    },
    {
      "cell_type": "code",
      "execution_count": 77,
      "metadata": {
        "colab": {
          "base_uri": "https://localhost:8080/",
          "height": 250
        },
        "id": "E5kLR8-V7Qch",
        "outputId": "866b2a74-34b1-4945-fe62-d3c3463f03ef"
      },
      "outputs": [
        {
          "output_type": "display_data",
          "data": {
            "text/html": [
              "<table>\n",
              "<thead>\n",
              "<tr><th style=\"text-align: right;\">  predict</th></tr>\n",
              "</thead>\n",
              "<tbody>\n",
              "<tr><td style=\"text-align: right;\"> 3.15915 </td></tr>\n",
              "<tr><td style=\"text-align: right;\"> 3.94017 </td></tr>\n",
              "<tr><td style=\"text-align: right;\"> 4.60775 </td></tr>\n",
              "<tr><td style=\"text-align: right;\"> 2.76589 </td></tr>\n",
              "<tr><td style=\"text-align: right;\"> 1.99803 </td></tr>\n",
              "<tr><td style=\"text-align: right;\"> 4.56954 </td></tr>\n",
              "<tr><td style=\"text-align: right;\"> 0.992484</td></tr>\n",
              "<tr><td style=\"text-align: right;\"> 2.76589 </td></tr>\n",
              "<tr><td style=\"text-align: right;\"> 0.763989</td></tr>\n",
              "<tr><td style=\"text-align: right;\"> 4.82277 </td></tr>\n",
              "</tbody>\n",
              "</table>"
            ]
          },
          "metadata": {}
        },
        {
          "output_type": "execute_result",
          "data": {
            "text/plain": [
              ""
            ]
          },
          "metadata": {},
          "execution_count": 77
        }
      ],
      "source": [
        "pred"
      ]
    },
    {
      "cell_type": "code",
      "execution_count": 78,
      "metadata": {
        "colab": {
          "base_uri": "https://localhost:8080/",
          "height": 916
        },
        "id": "WivDJwSmAlT6",
        "outputId": "fb163dc8-d9c8-495b-e87a-309c62d26c32"
      },
      "outputs": [
        {
          "output_type": "display_data",
          "data": {
            "text/html": [
              "<table>\n",
              "<thead>\n",
              "<tr><th style=\"text-align: right;\">  geoCluster</th><th style=\"text-align: right;\">   SKU</th><th>date               </th><th style=\"text-align: right;\">  price</th><th style=\"text-align: right;\">  sales</th><th>Category                                                </th><th>Type                                                           </th><th style=\"text-align: right;\">  brandId</th><th style=\"text-align: right;\">  lagerUnitQuantity</th><th style=\"text-align: right;\">  Units</th><th>trademark  </th><th style=\"text-align: right;\">  countryOfOrigin</th><th>Group          </th><th style=\"text-align: right;\">  Year</th><th style=\"text-align: right;\">  Month</th><th style=\"text-align: right;\">  Day</th><th>dotw    </th><th style=\"text-align: right;\">  prediction</th></tr>\n",
              "</thead>\n",
              "<tbody>\n",
              "<tr><td style=\"text-align: right;\">        2013</td><td style=\"text-align: right;\">567970</td><td>2021-01-21 00:00:00</td><td style=\"text-align: right;\">  26.39</td><td style=\"text-align: right;\">    1  </td><td>Plain baguette loaf baked in the hearth, own production </td><td>Baguette loaf — plain                                          </td><td style=\"text-align: right;\">     2737</td><td style=\"text-align: right;\">              300  </td><td style=\"text-align: right;\">    nan</td><td>9974       </td><td style=\"text-align: right;\">                1</td><td>Bakery         </td><td style=\"text-align: right;\">  2021</td><td style=\"text-align: right;\">      1</td><td style=\"text-align: right;\">   21</td><td>Thursday</td><td style=\"text-align: right;\">    3.15915 </td></tr>\n",
              "<tr><td style=\"text-align: right;\">        2542</td><td style=\"text-align: right;\"> 89074</td><td>2021-02-25 00:00:00</td><td style=\"text-align: right;\">  20.69</td><td style=\"text-align: right;\">    5  </td><td>Milk cakes                                              </td><td>Sponge cake                                                    </td><td style=\"text-align: right;\">     2724</td><td style=\"text-align: right;\">               28  </td><td style=\"text-align: right;\">    nan</td><td>1835       </td><td style=\"text-align: right;\">              nan</td><td>Yogurts        </td><td style=\"text-align: right;\">  2021</td><td style=\"text-align: right;\">      2</td><td style=\"text-align: right;\">   25</td><td>Thursday</td><td style=\"text-align: right;\">    3.94017 </td></tr>\n",
              "<tr><td style=\"text-align: right;\">        1999</td><td style=\"text-align: right;\">369071</td><td>2021-04-24 00:00:00</td><td style=\"text-align: right;\">  15.69</td><td style=\"text-align: right;\">    6  </td><td>Water, still                                            </td><td>Table water — PET — from 1 to 2 L — Still                      </td><td style=\"text-align: right;\">     1330</td><td style=\"text-align: right;\">                2  </td><td style=\"text-align: right;\">    nan</td><td>2781       </td><td style=\"text-align: right;\">                1</td><td>Mineral water  </td><td style=\"text-align: right;\">  2021</td><td style=\"text-align: right;\">      4</td><td style=\"text-align: right;\">   24</td><td>Saturday</td><td style=\"text-align: right;\">    4.60775 </td></tr>\n",
              "<tr><td style=\"text-align: right;\">        2270</td><td style=\"text-align: right;\">690818</td><td>2020-11-13 00:00:00</td><td style=\"text-align: right;\">  15.99</td><td style=\"text-align: right;\">    4  </td><td>Ciabatta, light, plain, parbaking                       </td><td>Ciabatta                                                       </td><td style=\"text-align: right;\">     8274</td><td style=\"text-align: right;\">              250  </td><td style=\"text-align: right;\">    nan</td><td>4043       </td><td style=\"text-align: right;\">              nan</td><td>Bakery         </td><td style=\"text-align: right;\">  2020</td><td style=\"text-align: right;\">     11</td><td style=\"text-align: right;\">   13</td><td>Friday  </td><td style=\"text-align: right;\">    2.76589 </td></tr>\n",
              "<tr><td style=\"text-align: right;\">        2259</td><td style=\"text-align: right;\"> 32550</td><td>2020-12-25 00:00:00</td><td style=\"text-align: right;\">  58.29</td><td style=\"text-align: right;\">    4.7</td><td>Lemon                                                   </td><td>Citrus fruit — Lemon — Plain                                   </td><td style=\"text-align: right;\">      nan</td><td style=\"text-align: right;\">                1  </td><td style=\"text-align: right;\">    nan</td><td>           </td><td style=\"text-align: right;\">              nan</td><td>Tropical fruits</td><td style=\"text-align: right;\">  2020</td><td style=\"text-align: right;\">     12</td><td style=\"text-align: right;\">   25</td><td>Friday  </td><td style=\"text-align: right;\">    1.99803 </td></tr>\n",
              "<tr><td style=\"text-align: right;\">        2120</td><td style=\"text-align: right;\">369071</td><td>2021-02-14 00:00:00</td><td style=\"text-align: right;\">  19.69</td><td style=\"text-align: right;\">    4  </td><td>Water, still                                            </td><td>Table water — PET — from 1 to 2 L — Still                      </td><td style=\"text-align: right;\">     1330</td><td style=\"text-align: right;\">                2  </td><td style=\"text-align: right;\">    nan</td><td>2781       </td><td style=\"text-align: right;\">                1</td><td>Mineral water  </td><td style=\"text-align: right;\">  2021</td><td style=\"text-align: right;\">      2</td><td style=\"text-align: right;\">   14</td><td>Sunday  </td><td style=\"text-align: right;\">    4.56954 </td></tr>\n",
              "<tr><td style=\"text-align: right;\">        2577</td><td style=\"text-align: right;\">591899</td><td>2021-05-15 00:00:00</td><td style=\"text-align: right;\">  82.49</td><td style=\"text-align: right;\">    0.5</td><td>Flavored wheat bread baked in the hearth, own production</td><td>Bread — flavored                                               </td><td style=\"text-align: right;\">      nan</td><td style=\"text-align: right;\">                1  </td><td style=\"text-align: right;\">    nan</td><td>15156      </td><td style=\"text-align: right;\">                1</td><td>Bakery         </td><td style=\"text-align: right;\">  2021</td><td style=\"text-align: right;\">      5</td><td style=\"text-align: right;\">   15</td><td>Saturday</td><td style=\"text-align: right;\">    0.992484</td></tr>\n",
              "<tr><td style=\"text-align: right;\">        2171</td><td style=\"text-align: right;\">690818</td><td>2020-09-01 00:00:00</td><td style=\"text-align: right;\">  17.09</td><td style=\"text-align: right;\">    2  </td><td>Ciabatta, light, plain, parbaking                       </td><td>Ciabatta                                                       </td><td style=\"text-align: right;\">     8274</td><td style=\"text-align: right;\">              250  </td><td style=\"text-align: right;\">    nan</td><td>4043       </td><td style=\"text-align: right;\">              nan</td><td>Bakery         </td><td style=\"text-align: right;\">  2020</td><td style=\"text-align: right;\">      9</td><td style=\"text-align: right;\">    1</td><td>Tuesday </td><td style=\"text-align: right;\">    2.76589 </td></tr>\n",
              "<tr><td style=\"text-align: right;\">        2542</td><td style=\"text-align: right;\">571255</td><td>2021-02-27 00:00:00</td><td style=\"text-align: right;\"> 255.59</td><td style=\"text-align: right;\">    2  </td><td>Semi-hard coarse-pored cheese                           </td><td>semi-hard cheese — More expensive — National — Available import</td><td style=\"text-align: right;\">     2737</td><td style=\"text-align: right;\">                1  </td><td style=\"text-align: right;\">    nan</td><td>1037       </td><td style=\"text-align: right;\">               33</td><td>Cheese         </td><td style=\"text-align: right;\">  2021</td><td style=\"text-align: right;\">      2</td><td style=\"text-align: right;\">   27</td><td>Saturday</td><td style=\"text-align: right;\">    0.763989</td></tr>\n",
              "<tr><td style=\"text-align: right;\">        2735</td><td style=\"text-align: right;\">   208</td><td>2021-02-01 00:00:00</td><td style=\"text-align: right;\">  15.59</td><td style=\"text-align: right;\">    2  </td><td>Water, sparkling                                        </td><td>Therapeutic-table water — PET — from 1 to 2 L                  </td><td style=\"text-align: right;\">     1241</td><td style=\"text-align: right;\">                1.5</td><td style=\"text-align: right;\">    nan</td><td>3670       </td><td style=\"text-align: right;\">                1</td><td>Mineral water  </td><td style=\"text-align: right;\">  2021</td><td style=\"text-align: right;\">      2</td><td style=\"text-align: right;\">    1</td><td>Monday  </td><td style=\"text-align: right;\">    4.82277 </td></tr>\n",
              "</tbody>\n",
              "</table>"
            ]
          },
          "metadata": {}
        },
        {
          "output_type": "execute_result",
          "data": {
            "text/plain": [
              ""
            ]
          },
          "metadata": {},
          "execution_count": 78
        }
      ],
      "source": [
        "valid[\"prediction\"] = pred\n",
        "valid[[\"prediction\", \"sales\"]]\n",
        "valid"
      ]
    },
    {
      "cell_type": "code",
      "execution_count": 79,
      "metadata": {
        "colab": {
          "base_uri": "https://localhost:8080/",
          "height": 295
        },
        "id": "jkResu9aL32P",
        "outputId": "56994c8b-7d4e-4206-ab15-c9483063c746"
      },
      "outputs": [
        {
          "output_type": "execute_result",
          "data": {
            "text/plain": [
              "[<matplotlib.lines.Line2D at 0x7fb018e38190>]"
            ]
          },
          "metadata": {},
          "execution_count": 79
        },
        {
          "output_type": "display_data",
          "data": {
            "text/plain": [
              "<Figure size 432x288 with 1 Axes>"
            ],
            "image/png": "[encoded data removed]"
          },
          "metadata": {
            "needs_background": "light"
          }
        }
      ],
      "source": [
        "import matplotlib.pyplot as plt\n",
        "new = valid[(valid[\"SKU\"]==32485) & (valid[\"geoCluster\"] == '2069')]\n",
        "new = new.as_data_frame().sort_values(by = \"date\")\n",
        "plt.plot(new[\"date\"],new[\"sales\"])\n",
        "plt.plot(new[\"date\"],new[\"prediction\"])"
      ]
    },
    {
      "cell_type": "markdown",
      "source": [
        "#Visualize the tree"
      ],
      "metadata": {
        "id": "ARGFK6mxMOkk"
      }
    },
    {
      "cell_type": "code",
      "source": [
        "import subprocess\n",
        "from IPython.display import Image\n",
        "\n",
        "mojo_file_name = \"/content/my_gbm_mojo.zip\"\n",
        "h2o_jar_path= '/content/tools/h2o-3/h2o-3.14.0.3/h2o.jar'\n",
        "mojo_full_path = mojo_file_name\n",
        "gv_file_path = \"/content//my_gbm_graph.gv\"\n",
        "image_file_name = \" /content/my_gbm_tree\"\n",
        "model.download_mojo(mojo_file_name)\n",
        "\n",
        "def generateTree(h2o_jar_path, mojo_full_path, gv_file_path, image_file_path, tree_id = 0):\n",
        "    image_file_path = image_file_path + \"_\" + str(tree_id) + \".png\"\n",
        "    result = subprocess.call([\"java\", \"-cp\", h2o_jar_path, \"hex.genmodel.tools.PrintMojo\", \"--tree\", str(tree_id), \"-i\", mojo_full_path , \"-o\", gv_file_path ], shell=False)\n",
        "    result = subprocess.call([\"ls\",gv_file_path], shell = False)\n",
        "    if result is 0:\n",
        "        print(\"Success: Graphviz file \" + gv_file_path + \" is generated.\")\n",
        "    else: \n",
        "        print(\"Error: Graphviz file \" + gv_file_path + \" could not be generated.\")\n",
        "\n",
        "def generateTreeImage(gv_file_path, image_file_path, tree_id):\n",
        "    image_file_path = image_file_path + \"_\" + str(tree_id) + \".png\"\n",
        "    result = subprocess.call([\"dot\", \"-Tpng\", gv_file_path, \"-o\", image_file_path], shell=False)\n",
        "    result = subprocess.call([\"ls\",image_file_path], shell = False)\n",
        "    if result is 0:\n",
        "        print(\"Success: Image File \" + image_file_path + \" is generated.\")\n",
        "        print(\"Now you can execute the follow line as-it-is to see the tree graph:\") \n",
        "        print(\"Image(filename='\" + image_file_path + \"\\')\")\n",
        "    else:\n",
        "        print(\"Error: Image file \" + image_file_path + \" could not be generated.\")\n",
        "\n",
        "generateTree(h2o_jar_path, mojo_full_path, gv_file_path, image_file_name, 3)\n",
        "generateTreeImage(gv_file_path, image_file_name, 3)\n",
        "# Just pass the Tree Image file name depending on your tree\n",
        "#Image(filename='/content/my_gbm_tree_0.png')"
      ],
      "metadata": {
        "colab": {
          "base_uri": "https://localhost:8080/"
        },
        "id": "L5ELL2rm1wAb",
        "outputId": "7e7c13f1-6e7b-49db-e156-e1e8c01f9cbb"
      },
      "execution_count": 80,
      "outputs": [
        {
          "output_type": "stream",
          "name": "stdout",
          "text": [
            "Error: Graphviz file /content//my_gbm_graph.gv could not be generated.\n",
            "Error: Image file  /content/my_gbm_tree_3.png could not be generated.\n"
          ]
        }
      ]
    },
    {
      "cell_type": "code",
      "source": [
        "test = pd.read_csv(\"test.csv\")\n",
        "test"
      ],
      "metadata": {
        "colab": {
          "base_uri": "https://localhost:8080/",
          "height": 419
        },
        "id": "yf5mBwm5B3N5",
        "outputId": "9f8a4a90-6836-4465-814c-761fabba5380"
      },
      "execution_count": 81,
      "outputs": [
        {
          "output_type": "execute_result",
          "data": {
            "text/plain": [
              "                ID  geoCluster     SKU        date  price_filled  sales\n",
              "0       RR27956447          21   32485  2021-07-08         39.69    NaN\n",
              "1       RR27956448          21   32485  2021-07-09         39.69    NaN\n",
              "2       RR27956449          21   32485  2021-07-10         39.69    NaN\n",
              "3       RR27956450          21   32485  2021-07-11         39.69    NaN\n",
              "4       RR27956451          21   32485  2021-07-12         39.69    NaN\n",
              "...            ...         ...     ...         ...           ...    ...\n",
              "202732  RR55912539        3230  711838  2021-07-15         28.49    NaN\n",
              "202733  RR55912540        3230  711838  2021-07-16         28.49    NaN\n",
              "202734  RR55912541        3230  711838  2021-07-17         28.49    NaN\n",
              "202735  RR55912542        3230  711838  2021-07-18         28.49    NaN\n",
              "202736  RR55912543        3230  711838  2021-07-19         28.49    NaN\n",
              "\n",
              "[202737 rows x 6 columns]"
            ],
            "text/html": [
              "\n",
              "  <div id=\"df-3906ffc5-eff7-4ba4-9f65-8778e97f4684\">\n",
              "    <div class=\"colab-df-container\">\n",
              "      <div>\n",
              "<style scoped>\n",
              "    .dataframe tbody tr th:only-of-type {\n",
              "        vertical-align: middle;\n",
              "    }\n",
              "\n",
              "    .dataframe tbody tr th {\n",
              "        vertical-align: top;\n",
              "    }\n",
              "\n",
              "    .dataframe thead th {\n",
              "        text-align: right;\n",
              "    }\n",
              "</style>\n",
              "<table border=\"1\" class=\"dataframe\">\n",
              "  <thead>\n",
              "    <tr style=\"text-align: right;\">\n",
              "      <th></th>\n",
              "      <th>ID</th>\n",
              "      <th>geoCluster</th>\n",
              "      <th>SKU</th>\n",
              "      <th>date</th>\n",
              "      <th>price_filled</th>\n",
              "      <th>sales</th>\n",
              "    </tr>\n",
              "  </thead>\n",
              "  <tbody>\n",
              "    <tr>\n",
              "      <th>0</th>\n",
              "      <td>RR27956447</td>\n",
              "      <td>21</td>\n",
              "      <td>32485</td>\n",
              "      <td>2021-07-08</td>\n",
              "      <td>39.69</td>\n",
              "      <td>NaN</td>\n",
              "    </tr>\n",
              "    <tr>\n",
              "      <th>1</th>\n",
              "      <td>RR27956448</td>\n",
              "      <td>21</td>\n",
              "      <td>32485</td>\n",
              "      <td>2021-07-09</td>\n",
              "      <td>39.69</td>\n",
              "      <td>NaN</td>\n",
              "    </tr>\n",
              "    <tr>\n",
              "      <th>2</th>\n",
              "      <td>RR27956449</td>\n",
              "      <td>21</td>\n",
              "      <td>32485</td>\n",
              "      <td>2021-07-10</td>\n",
              "      <td>39.69</td>\n",
              "      <td>NaN</td>\n",
              "    </tr>\n",
              "    <tr>\n",
              "      <th>3</th>\n",
              "      <td>RR27956450</td>\n",
              "      <td>21</td>\n",
              "      <td>32485</td>\n",
              "      <td>2021-07-11</td>\n",
              "      <td>39.69</td>\n",
              "      <td>NaN</td>\n",
              "    </tr>\n",
              "    <tr>\n",
              "      <th>4</th>\n",
              "      <td>RR27956451</td>\n",
              "      <td>21</td>\n",
              "      <td>32485</td>\n",
              "      <td>2021-07-12</td>\n",
              "      <td>39.69</td>\n",
              "      <td>NaN</td>\n",
              "    </tr>\n",
              "    <tr>\n",
              "      <th>...</th>\n",
              "      <td>...</td>\n",
              "      <td>...</td>\n",
              "      <td>...</td>\n",
              "      <td>...</td>\n",
              "      <td>...</td>\n",
              "      <td>...</td>\n",
              "    </tr>\n",
              "    <tr>\n",
              "      <th>202732</th>\n",
              "      <td>RR55912539</td>\n",
              "      <td>3230</td>\n",
              "      <td>711838</td>\n",
              "      <td>2021-07-15</td>\n",
              "      <td>28.49</td>\n",
              "      <td>NaN</td>\n",
              "    </tr>\n",
              "    <tr>\n",
              "      <th>202733</th>\n",
              "      <td>RR55912540</td>\n",
              "      <td>3230</td>\n",
              "      <td>711838</td>\n",
              "      <td>2021-07-16</td>\n",
              "      <td>28.49</td>\n",
              "      <td>NaN</td>\n",
              "    </tr>\n",
              "    <tr>\n",
              "      <th>202734</th>\n",
              "      <td>RR55912541</td>\n",
              "      <td>3230</td>\n",
              "      <td>711838</td>\n",
              "      <td>2021-07-17</td>\n",
              "      <td>28.49</td>\n",
              "      <td>NaN</td>\n",
              "    </tr>\n",
              "    <tr>\n",
              "      <th>202735</th>\n",
              "      <td>RR55912542</td>\n",
              "      <td>3230</td>\n",
              "      <td>711838</td>\n",
              "      <td>2021-07-18</td>\n",
              "      <td>28.49</td>\n",
              "      <td>NaN</td>\n",
              "    </tr>\n",
              "    <tr>\n",
              "      <th>202736</th>\n",
              "      <td>RR55912543</td>\n",
              "      <td>3230</td>\n",
              "      <td>711838</td>\n",
              "      <td>2021-07-19</td>\n",
              "      <td>28.49</td>\n",
              "      <td>NaN</td>\n",
              "    </tr>\n",
              "  </tbody>\n",
              "</table>\n",
              "<p>202737 rows × 6 columns</p>\n",
              "</div>\n",
              "      <button class=\"colab-df-convert\" onclick=\"convertToInteractive('df-3906ffc5-eff7-4ba4-9f65-8778e97f4684')\"\n",
              "              title=\"Convert this dataframe to an interactive table.\"\n",
              "              style=\"display:none;\">\n",
              "        \n",
              "  <svg xmlns=\"http://www.w3.org/2000/svg\" height=\"24px\"viewBox=\"0 0 24 24\"\n",
              "       width=\"24px\">\n",
              "    <path d=\"M0 0h24v24H0V0z\" fill=\"none\"/>\n",
              "    <path d=\"M18.56 5.44l.94 2.06.94-2.06 2.06-.94-2.06-.94-.94-2.06-.94 2.06-2.06.94zm-11 1L8.5 8.5l.94-2.06 2.06-.94-2.06-.94L8.5 2.5l-.94 2.06-2.06.94zm10 10l.94 2.06.94-2.06 2.06-.94-2.06-.94-.94-2.06-.94 2.06-2.06.94z\"/><path d=\"M17.41 7.96l-1.37-1.37c-.4-.4-.92-.59-1.43-.59-.52 0-1.04.2-1.43.59L10.3 9.45l-7.72 7.72c-.78.78-.78 2.05 0 2.83L4 21.41c.39.39.9.59 1.41.59.51 0 1.02-.2 1.41-.59l7.78-7.78 2.81-2.81c.8-.78.8-2.07 0-2.86zM5.41 20L4 18.59l7.72-7.72 1.47 1.35L5.41 20z\"/>\n",
              "  </svg>\n",
              "      </button>\n",
              "      \n",
              "  <style>\n",
              "    .colab-df-container {\n",
              "      display:flex;\n",
              "      flex-wrap:wrap;\n",
              "      gap: 12px;\n",
              "    }\n",
              "\n",
              "    .colab-df-convert {\n",
              "      background-color: #E8F0FE;\n",
              "      border: none;\n",
              "      border-radius: 50%;\n",
              "      cursor: pointer;\n",
              "      display: none;\n",
              "      fill: #1967D2;\n",
              "      height: 32px;\n",
              "      padding: 0 0 0 0;\n",
              "      width: 32px;\n",
              "    }\n",
              "\n",
              "    .colab-df-convert:hover {\n",
              "      background-color: #E2EBFA;\n",
              "      box-shadow: 0px 1px 2px rgba(60, 64, 67, 0.3), 0px 1px 3px 1px rgba(60, 64, 67, 0.15);\n",
              "      fill: #174EA6;\n",
              "    }\n",
              "\n",
              "    [theme=dark] .colab-df-convert {\n",
              "      background-color: #3B4455;\n",
              "      fill: #D2E3FC;\n",
              "    }\n",
              "\n",
              "    [theme=dark] .colab-df-convert:hover {\n",
              "      background-color: #434B5C;\n",
              "      box-shadow: 0px 1px 3px 1px rgba(0, 0, 0, 0.15);\n",
              "      filter: drop-shadow(0px 1px 2px rgba(0, 0, 0, 0.3));\n",
              "      fill: #FFFFFF;\n",
              "    }\n",
              "  </style>\n",
              "\n",
              "      <script>\n",
              "        const buttonEl =\n",
              "          document.querySelector('#df-3906ffc5-eff7-4ba4-9f65-8778e97f4684 button.colab-df-convert');\n",
              "        buttonEl.style.display =\n",
              "          google.colab.kernel.accessAllowed ? 'block' : 'none';\n",
              "\n",
              "        async function convertToInteractive(key) {\n",
              "          const element = document.querySelector('#df-3906ffc5-eff7-4ba4-9f65-8778e97f4684');\n",
              "          const dataTable =\n",
              "            await google.colab.kernel.invokeFunction('convertToInteractive',\n",
              "                                                     [key], {});\n",
              "          if (!dataTable) return;\n",
              "\n",
              "          const docLinkHtml = 'Like what you see? Visit the ' +\n",
              "            '<a target=\"_blank\" href=https://colab.research.google.com/notebooks/data_table.ipynb>data table notebook</a>'\n",
              "            + ' to learn more about interactive tables.';\n",
              "          element.innerHTML = '';\n",
              "          dataTable['output_type'] = 'display_data';\n",
              "          await google.colab.output.renderOutput(dataTable, element);\n",
              "          const docLink = document.createElement('div');\n",
              "          docLink.innerHTML = docLinkHtml;\n",
              "          element.appendChild(docLink);\n",
              "        }\n",
              "      </script>\n",
              "    </div>\n",
              "  </div>\n",
              "  "
            ]
          },
          "metadata": {},
          "execution_count": 81
        }
      ]
    },
    {
      "cell_type": "code",
      "source": [
        "joined_test = test.join(sku.set_index('SKU'), on = 'SKU', how = 'inner')\n",
        "joined_test = joined_test.drop(['ID'], axis = 1)\n",
        "joined_test[[\"Year\", \"Month\", \"Day\"]] = joined_test.date.str.split(pat='-',expand=True)\n",
        "joined_test['date'] = pd.to_datetime(joined_test['date'])\n",
        "joined_test['dotw']= joined_test['date'].dt.day_name()\n",
        "joined_test['price'] = joined_test['price_filled']\n",
        "joined_test.drop(['price_filled'], axis = 1)\n",
        "h2o_joined_test = h2o.H2OFrame(joined_test)"
      ],
      "metadata": {
        "colab": {
          "base_uri": "https://localhost:8080/"
        },
        "id": "btdY7yhmCVg-",
        "outputId": "dcc990b5-0685-4fa3-a3eb-347eeb4dc6c7"
      },
      "execution_count": 82,
      "outputs": [
        {
          "output_type": "stream",
          "name": "stdout",
          "text": [
            "Parse progress: |████████████████████████████████████████████████████████████████| (done) 100%\n"
          ]
        }
      ]
    },
    {
      "cell_type": "code",
      "source": [
        "h2o_joined_test"
      ],
      "metadata": {
        "colab": {
          "base_uri": "https://localhost:8080/",
          "height": 610
        },
        "id": "khLQBCXuDkI1",
        "outputId": "82f50ae7-cf47-4e68-d68c-1b1d5c962e0c"
      },
      "execution_count": 83,
      "outputs": [
        {
          "output_type": "display_data",
          "data": {
            "text/html": [
              "<table>\n",
              "<thead>\n",
              "<tr><th style=\"text-align: right;\">  geoCluster</th><th style=\"text-align: right;\">  SKU</th><th>date               </th><th style=\"text-align: right;\">  price_filled</th><th style=\"text-align: right;\">  sales</th><th>Category  </th><th>Type          </th><th style=\"text-align: right;\">  brandId</th><th style=\"text-align: right;\">  lagerUnitQuantity</th><th style=\"text-align: right;\">  Units</th><th style=\"text-align: right;\">  trademark</th><th style=\"text-align: right;\">  countryOfOrigin</th><th>Group          </th><th style=\"text-align: right;\">  Year</th><th style=\"text-align: right;\">  Month</th><th style=\"text-align: right;\">  Day</th><th>dotw     </th><th style=\"text-align: right;\">  price</th></tr>\n",
              "</thead>\n",
              "<tbody>\n",
              "<tr><td style=\"text-align: right;\">          21</td><td style=\"text-align: right;\">32485</td><td>2021-07-08 00:00:00</td><td style=\"text-align: right;\">         39.69</td><td style=\"text-align: right;\">    nan</td><td>Banana    </td><td>Banana — Plain</td><td style=\"text-align: right;\">      nan</td><td style=\"text-align: right;\">                  1</td><td style=\"text-align: right;\">    nan</td><td style=\"text-align: right;\">        nan</td><td style=\"text-align: right;\">              nan</td><td>Tropical fruits</td><td style=\"text-align: right;\">  2021</td><td style=\"text-align: right;\">      7</td><td style=\"text-align: right;\">    8</td><td>Thursday </td><td style=\"text-align: right;\">  39.69</td></tr>\n",
              "<tr><td style=\"text-align: right;\">          21</td><td style=\"text-align: right;\">32485</td><td>2021-07-09 00:00:00</td><td style=\"text-align: right;\">         39.69</td><td style=\"text-align: right;\">    nan</td><td>Banana    </td><td>Banana — Plain</td><td style=\"text-align: right;\">      nan</td><td style=\"text-align: right;\">                  1</td><td style=\"text-align: right;\">    nan</td><td style=\"text-align: right;\">        nan</td><td style=\"text-align: right;\">              nan</td><td>Tropical fruits</td><td style=\"text-align: right;\">  2021</td><td style=\"text-align: right;\">      7</td><td style=\"text-align: right;\">    9</td><td>Friday   </td><td style=\"text-align: right;\">  39.69</td></tr>\n",
              "<tr><td style=\"text-align: right;\">          21</td><td style=\"text-align: right;\">32485</td><td>2021-07-10 00:00:00</td><td style=\"text-align: right;\">         39.69</td><td style=\"text-align: right;\">    nan</td><td>Banana    </td><td>Banana — Plain</td><td style=\"text-align: right;\">      nan</td><td style=\"text-align: right;\">                  1</td><td style=\"text-align: right;\">    nan</td><td style=\"text-align: right;\">        nan</td><td style=\"text-align: right;\">              nan</td><td>Tropical fruits</td><td style=\"text-align: right;\">  2021</td><td style=\"text-align: right;\">      7</td><td style=\"text-align: right;\">   10</td><td>Saturday </td><td style=\"text-align: right;\">  39.69</td></tr>\n",
              "<tr><td style=\"text-align: right;\">          21</td><td style=\"text-align: right;\">32485</td><td>2021-07-11 00:00:00</td><td style=\"text-align: right;\">         39.69</td><td style=\"text-align: right;\">    nan</td><td>Banana    </td><td>Banana — Plain</td><td style=\"text-align: right;\">      nan</td><td style=\"text-align: right;\">                  1</td><td style=\"text-align: right;\">    nan</td><td style=\"text-align: right;\">        nan</td><td style=\"text-align: right;\">              nan</td><td>Tropical fruits</td><td style=\"text-align: right;\">  2021</td><td style=\"text-align: right;\">      7</td><td style=\"text-align: right;\">   11</td><td>Sunday   </td><td style=\"text-align: right;\">  39.69</td></tr>\n",
              "<tr><td style=\"text-align: right;\">          21</td><td style=\"text-align: right;\">32485</td><td>2021-07-12 00:00:00</td><td style=\"text-align: right;\">         39.69</td><td style=\"text-align: right;\">    nan</td><td>Banana    </td><td>Banana — Plain</td><td style=\"text-align: right;\">      nan</td><td style=\"text-align: right;\">                  1</td><td style=\"text-align: right;\">    nan</td><td style=\"text-align: right;\">        nan</td><td style=\"text-align: right;\">              nan</td><td>Tropical fruits</td><td style=\"text-align: right;\">  2021</td><td style=\"text-align: right;\">      7</td><td style=\"text-align: right;\">   12</td><td>Monday   </td><td style=\"text-align: right;\">  39.69</td></tr>\n",
              "<tr><td style=\"text-align: right;\">          21</td><td style=\"text-align: right;\">32485</td><td>2021-07-13 00:00:00</td><td style=\"text-align: right;\">         39.69</td><td style=\"text-align: right;\">    nan</td><td>Banana    </td><td>Banana — Plain</td><td style=\"text-align: right;\">      nan</td><td style=\"text-align: right;\">                  1</td><td style=\"text-align: right;\">    nan</td><td style=\"text-align: right;\">        nan</td><td style=\"text-align: right;\">              nan</td><td>Tropical fruits</td><td style=\"text-align: right;\">  2021</td><td style=\"text-align: right;\">      7</td><td style=\"text-align: right;\">   13</td><td>Tuesday  </td><td style=\"text-align: right;\">  39.69</td></tr>\n",
              "<tr><td style=\"text-align: right;\">          21</td><td style=\"text-align: right;\">32485</td><td>2021-07-14 00:00:00</td><td style=\"text-align: right;\">         39.69</td><td style=\"text-align: right;\">    nan</td><td>Banana    </td><td>Banana — Plain</td><td style=\"text-align: right;\">      nan</td><td style=\"text-align: right;\">                  1</td><td style=\"text-align: right;\">    nan</td><td style=\"text-align: right;\">        nan</td><td style=\"text-align: right;\">              nan</td><td>Tropical fruits</td><td style=\"text-align: right;\">  2021</td><td style=\"text-align: right;\">      7</td><td style=\"text-align: right;\">   14</td><td>Wednesday</td><td style=\"text-align: right;\">  39.69</td></tr>\n",
              "<tr><td style=\"text-align: right;\">          21</td><td style=\"text-align: right;\">32485</td><td>2021-07-15 00:00:00</td><td style=\"text-align: right;\">         39.69</td><td style=\"text-align: right;\">    nan</td><td>Banana    </td><td>Banana — Plain</td><td style=\"text-align: right;\">      nan</td><td style=\"text-align: right;\">                  1</td><td style=\"text-align: right;\">    nan</td><td style=\"text-align: right;\">        nan</td><td style=\"text-align: right;\">              nan</td><td>Tropical fruits</td><td style=\"text-align: right;\">  2021</td><td style=\"text-align: right;\">      7</td><td style=\"text-align: right;\">   15</td><td>Thursday </td><td style=\"text-align: right;\">  39.69</td></tr>\n",
              "<tr><td style=\"text-align: right;\">          21</td><td style=\"text-align: right;\">32485</td><td>2021-07-16 00:00:00</td><td style=\"text-align: right;\">         39.69</td><td style=\"text-align: right;\">    nan</td><td>Banana    </td><td>Banana — Plain</td><td style=\"text-align: right;\">      nan</td><td style=\"text-align: right;\">                  1</td><td style=\"text-align: right;\">    nan</td><td style=\"text-align: right;\">        nan</td><td style=\"text-align: right;\">              nan</td><td>Tropical fruits</td><td style=\"text-align: right;\">  2021</td><td style=\"text-align: right;\">      7</td><td style=\"text-align: right;\">   16</td><td>Friday   </td><td style=\"text-align: right;\">  39.69</td></tr>\n",
              "<tr><td style=\"text-align: right;\">          21</td><td style=\"text-align: right;\">32485</td><td>2021-07-17 00:00:00</td><td style=\"text-align: right;\">         39.69</td><td style=\"text-align: right;\">    nan</td><td>Banana    </td><td>Banana — Plain</td><td style=\"text-align: right;\">      nan</td><td style=\"text-align: right;\">                  1</td><td style=\"text-align: right;\">    nan</td><td style=\"text-align: right;\">        nan</td><td style=\"text-align: right;\">              nan</td><td>Tropical fruits</td><td style=\"text-align: right;\">  2021</td><td style=\"text-align: right;\">      7</td><td style=\"text-align: right;\">   17</td><td>Saturday </td><td style=\"text-align: right;\">  39.69</td></tr>\n",
              "</tbody>\n",
              "</table>"
            ]
          },
          "metadata": {}
        },
        {
          "output_type": "execute_result",
          "data": {
            "text/plain": [
              ""
            ]
          },
          "metadata": {},
          "execution_count": 83
        }
      ]
    },
    {
      "cell_type": "code",
      "source": [
        "h2o_joined_test[\"Category\"] = h2o_joined_test[\"Category\"].asfactor()\n",
        "h2o_joined_test[\"countryOfOrigin\"] = h2o_joined_test[\"countryOfOrigin\"].asfactor()\n",
        "h2o_joined_test[\"trademark\"] = h2o_joined_test[\"trademark\"].asfactor()\n",
        "h2o_joined_test[\"geoCluster\"] = h2o_joined_test[\"geoCluster\"].asfactor()\n",
        "h2o_joined_test[\"Group\"] = h2o_joined_test[\"Group\"].asfactor()\n",
        "h2o_joined_test[\"Type\"] = h2o_joined_test[\"Type\"].asfactor()\n",
        "h2o_joined_test[\"dotw\"] = h2o_joined_test[\"dotw\"].asfactor()\n",
        "h2o_joined_test = h2o_joined_test.drop(['sales'], axis = 1)\n",
        "h2o_joined_test\n",
        "pred =  model.predict(h2o_joined_test)"
      ],
      "metadata": {
        "colab": {
          "base_uri": "https://localhost:8080/"
        },
        "id": "7CRr2Fst87oS",
        "outputId": "0e2fddcb-26ca-4153-9dbc-58cab471c3c2"
      },
      "execution_count": 84,
      "outputs": [
        {
          "output_type": "stream",
          "name": "stdout",
          "text": [
            "drf prediction progress: |███████████████████████████████████████████████████████| (done) 100%\n"
          ]
        },
        {
          "output_type": "stream",
          "name": "stderr",
          "text": [
            "/usr/local/lib/python3.7/dist-packages/h2o/job.py:83: UserWarning: Test/Validation dataset column 'geoCluster' has levels not trained on: [\"21\", \"298\", \"447\", \"493\", \"645\", \"1673\", \"1887\", \"2723\", \"2953\", \"3000\", \"3079\", \"3086\", \"3095\", \"3154\", \"3167\", \"3183\"]\n",
            "  warnings.warn(w)\n",
            "/usr/local/lib/python3.7/dist-packages/h2o/job.py:83: UserWarning: Test/Validation dataset column 'trademark' has levels not trained on: [\"1037.0\", \"1120.0\", \"1173.0\", \"1192.0\", \"11960.0\", \"1323.0\", \"15156.0\", \"1835.0\", \"1839.0\", \"1921.0\", ...4 not listed..., \"4043.0\", \"4384.0\", \"4891.0\", \"4970.0\", \"5070.0\", \"6133.0\", \"8802.0\", \"9666.0\", \"9974.0\", \"nan\"]\n",
            "  warnings.warn(w)\n"
          ]
        }
      ]
    },
    {
      "cell_type": "code",
      "source": [
        "predictors"
      ],
      "metadata": {
        "colab": {
          "base_uri": "https://localhost:8080/"
        },
        "id": "hJTDf1mwMzZu",
        "outputId": "826e8018-9a6a-47af-b3ce-5aeb3947f1fb"
      },
      "execution_count": 85,
      "outputs": [
        {
          "output_type": "execute_result",
          "data": {
            "text/plain": [
              "['geoCluster',\n",
              " 'price',\n",
              " 'Category',\n",
              " 'Type',\n",
              " 'brandId',\n",
              " 'lagerUnitQuantity',\n",
              " 'Units',\n",
              " 'trademark',\n",
              " 'countryOfOrigin',\n",
              " 'Group',\n",
              " 'Month',\n",
              " 'Year',\n",
              " 'dotw']"
            ]
          },
          "metadata": {},
          "execution_count": 85
        }
      ]
    },
    {
      "cell_type": "markdown",
      "source": [
        "#Gradient Boosting Estimator"
      ],
      "metadata": {
        "id": "s5LYcN2MMYb5"
      }
    },
    {
      "cell_type": "code",
      "source": [
        "from h2o.estimators import H2OGradientBoostingEstimator\n",
        "h2o.init()\n",
        "\n",
        "# Build and train the model:\n",
        "pros_gbm = H2OGradientBoostingEstimator(nfolds=5,\n",
        "                                        seed=1111,\n",
        "                                        keep_cross_validation_predictions = True)\n",
        "pros_gbm.train(x=predictors, y=response, training_frame=h2o_joined)\n",
        "\n",
        "# Eval performance:\n",
        "perf = pros_gbm.model_performance(h2o_joined)\n",
        "\n",
        "# Generate predictions on a test set (if necessary):\n",
        "pred = pros_gbm.predict(h2o_joined)\n",
        "\n",
        "# Extract feature interactions:\n",
        "feature_interactions = pros_gbm.feature_interaction()\n"
      ],
      "metadata": {
        "colab": {
          "base_uri": "https://localhost:8080/",
          "height": 439
        },
        "id": "XFFJXRrhIYGs",
        "outputId": "71adb82c-6abf-4e26-f3e8-537c150f8046"
      },
      "execution_count": 86,
      "outputs": [
        {
          "output_type": "stream",
          "name": "stdout",
          "text": [
            "Checking whether there is an H2O instance running at http://localhost:54321 . connected.\n"
          ]
        },
        {
          "output_type": "display_data",
          "data": {
            "text/plain": [
              "--------------------------  ----------------------------------\n",
              "H2O_cluster_uptime:         3 hours 4 mins\n",
              "H2O_cluster_timezone:       Etc/UTC\n",
              "H2O_data_parsing_timezone:  UTC\n",
              "H2O_cluster_version:        3.36.1.1\n",
              "H2O_cluster_version_age:    17 days\n",
              "H2O_cluster_name:           H2O_from_python_unknownUser_bjj4b2\n",
              "H2O_cluster_total_nodes:    1\n",
              "H2O_cluster_free_memory:    2.389 Gb\n",
              "H2O_cluster_total_cores:    2\n",
              "H2O_cluster_allowed_cores:  2\n",
              "H2O_cluster_status:         locked, healthy\n",
              "H2O_connection_url:         http://localhost:54321\n",
              "H2O_connection_proxy:       {\"http\": null, \"https\": null}\n",
              "H2O_internal_security:      False\n",
              "Python_version:             3.7.13 final\n",
              "--------------------------  ----------------------------------"
            ],
            "text/html": [
              "<div style=\"overflow:auto\"><table style=\"width:50%\"><tr><td>H2O_cluster_uptime:</td>\n",
              "<td>3 hours 4 mins</td></tr>\n",
              "<tr><td>H2O_cluster_timezone:</td>\n",
              "<td>Etc/UTC</td></tr>\n",
              "<tr><td>H2O_data_parsing_timezone:</td>\n",
              "<td>UTC</td></tr>\n",
              "<tr><td>H2O_cluster_version:</td>\n",
              "<td>3.36.1.1</td></tr>\n",
              "<tr><td>H2O_cluster_version_age:</td>\n",
              "<td>17 days </td></tr>\n",
              "<tr><td>H2O_cluster_name:</td>\n",
              "<td>H2O_from_python_unknownUser_bjj4b2</td></tr>\n",
              "<tr><td>H2O_cluster_total_nodes:</td>\n",
              "<td>1</td></tr>\n",
              "<tr><td>H2O_cluster_free_memory:</td>\n",
              "<td>2.389 Gb</td></tr>\n",
              "<tr><td>H2O_cluster_total_cores:</td>\n",
              "<td>2</td></tr>\n",
              "<tr><td>H2O_cluster_allowed_cores:</td>\n",
              "<td>2</td></tr>\n",
              "<tr><td>H2O_cluster_status:</td>\n",
              "<td>locked, healthy</td></tr>\n",
              "<tr><td>H2O_connection_url:</td>\n",
              "<td>http://localhost:54321</td></tr>\n",
              "<tr><td>H2O_connection_proxy:</td>\n",
              "<td>{\"http\": null, \"https\": null}</td></tr>\n",
              "<tr><td>H2O_internal_security:</td>\n",
              "<td>False</td></tr>\n",
              "<tr><td>Python_version:</td>\n",
              "<td>3.7.13 final</td></tr></table></div>"
            ]
          },
          "metadata": {}
        },
        {
          "output_type": "stream",
          "name": "stdout",
          "text": [
            "gbm Model Build progress: |"
          ]
        },
        {
          "output_type": "stream",
          "name": "stderr",
          "text": [
            "/usr/local/lib/python3.7/dist-packages/h2o/estimators/estimator_base.py:208: RuntimeWarning: Dropping bad and constant columns: [Units]\n",
            "  warnings.warn(mesg[\"message\"], RuntimeWarning)\n"
          ]
        },
        {
          "output_type": "stream",
          "name": "stdout",
          "text": [
            "██████████████████████████████████████████████████████| (done) 100%\n",
            "gbm prediction progress: |███████████████████████████████████████████████████████| (done) 100%\n"
          ]
        }
      ]
    },
    {
      "cell_type": "code",
      "source": [
        "perf"
      ],
      "metadata": {
        "id": "LPcrw0pMOalP",
        "colab": {
          "base_uri": "https://localhost:8080/"
        },
        "outputId": "fef32865-1430-4737-c4da-df132c9ba84a"
      },
      "execution_count": 87,
      "outputs": [
        {
          "output_type": "stream",
          "name": "stdout",
          "text": [
            "\n",
            "ModelMetricsRegression: gbm\n",
            "** Reported on test data. **\n",
            "\n",
            "MSE: 11.487788620197085\n",
            "RMSE: 3.389364043621913\n",
            "MAE: 1.7214298534019936\n",
            "RMSLE: 0.4490033562071233\n",
            "Mean Residual Deviance: 11.487788620197085\n"
          ]
        },
        {
          "output_type": "execute_result",
          "data": {
            "text/plain": [
              ""
            ]
          },
          "metadata": {},
          "execution_count": 87
        }
      ]
    },
    {
      "cell_type": "markdown",
      "source": [
        ""
      ],
      "metadata": {
        "id": "7bNnPi-uIVig"
      }
    }
  ],
  "metadata": {
    "colab": {
      "collapsed_sections": [],
      "name": "hack.ipynb",
      "provenance": []
    },
    "kernelspec": {
      "display_name": "Python 3",
      "name": "python3"
    },
    "language_info": {
      "name": "python"
    }
  },
  "nbformat": 4,
  "nbformat_minor": 0
}